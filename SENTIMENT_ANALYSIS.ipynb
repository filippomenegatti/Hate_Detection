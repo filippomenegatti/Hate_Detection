{
  "nbformat": 4,
  "nbformat_minor": 0,
  "metadata": {
    "colab": {
      "name": "SENTIMENT_ANALYSIS.ipynb",
      "provenance": [],
      "collapsed_sections": [
        "CKCGmxHKfA9T",
        "fY0UH4zne6fc",
        "UX_krm8Yfskl",
        "R9rKuwLtc_u2",
        "AGd0kVlltms2",
        "jITagIcRW1Os",
        "Ztqf54opBsdk",
        "6NsoNAXrBu_R",
        "7ijv5ALEBzjC",
        "VVt-wtANpKmQ",
        "Woqj6LVQWFVS",
        "4L4PhoeJWMaP"
      ],
      "include_colab_link": true
    },
    "kernelspec": {
      "display_name": "Python 3",
      "name": "python3"
    },
    "language_info": {
      "name": "python"
    }
  },
  "cells": [
    {
      "cell_type": "markdown",
      "metadata": {
        "id": "view-in-github",
        "colab_type": "text"
      },
      "source": [
        "<a href=\"https://colab.research.google.com/github/filippomenegatti/Hate_Detection/blob/main/SENTIMENT_ANALYSIS.ipynb\" target=\"_parent\"><img src=\"https://colab.research.google.com/assets/colab-badge.svg\" alt=\"Open In Colab\"/></a>"
      ]
    },
    {
      "cell_type": "markdown",
      "metadata": {
        "id": "m2HUtBevfEdQ"
      },
      "source": [
        "# Hate Speech Analysis"
      ]
    },
    {
      "cell_type": "markdown",
      "metadata": {
        "id": "CKCGmxHKfA9T"
      },
      "source": [
        "## Librerie"
      ]
    },
    {
      "cell_type": "code",
      "metadata": {
        "colab": {
          "base_uri": "https://localhost:8080/"
        },
        "id": "QriPPTYeisMf",
        "outputId": "5542c145-64a0-4bfb-cef1-eed780e368b5"
      },
      "source": [
        "import os\n",
        "import glob\n",
        "import pandas as pd\n",
        "from nltk.corpus import sentiwordnet as swn\n",
        "from sklearn.preprocessing import MinMaxScaler\n",
        "import numpy as np\n",
        "import matplotlib.pyplot as plt\n",
        "\n",
        "from bs4 import BeautifulSoup\n",
        "import lxml\n",
        "import requests\n",
        "import string\n",
        "import re\n",
        "from wordcloud import WordCloud\n",
        "\n",
        "import nltk\n",
        "from nltk.corpus import stopwords\n",
        "from nltk.tokenize import word_tokenize\n",
        "from nltk.stem import *\n",
        "nltk.download('stopwords')\n",
        "nltk.download('punkt')\n",
        "nltk.download('wordnet')\n",
        "nltk.download('averaged_perceptron_tagger')\n",
        "\n",
        "from sklearn.feature_extraction.text import CountVectorizer, TfidfVectorizer\n",
        "from sklearn.model_selection import KFold, StratifiedKFold, train_test_split, GridSearchCV, cross_val_score\n",
        "from sklearn.metrics import accuracy_score, f1_score, precision_score, recall_score\n",
        "from sklearn.preprocessing import StandardScaler\n",
        "from sklearn.naive_bayes import MultinomialNB\n",
        "from sklearn.ensemble import RandomForestClassifier\n",
        "from sklearn.base import BaseEstimator\n",
        "from sklearn.base import TransformerMixin\n",
        "from sklearn.feature_selection import SelectKBest, chi2\n",
        "from sklearn.svm import SVC\n",
        "from sklearn.metrics import classification_report, confusion_matrix, accuracy_score\n",
        "from sklearn import linear_model, datasets, metrics\n",
        "from sklearn.datasets import make_classification\n",
        "from sklearn.metrics import plot_confusion_matrix\n",
        "\n",
        "\n",
        "import warnings\n",
        "import numpy as np\n",
        "from xgboost.sklearn import XGBClassifier\n",
        "warnings.filterwarnings('ignore')"
      ],
      "execution_count": 10,
      "outputs": [
        {
          "output_type": "stream",
          "name": "stdout",
          "text": [
            "[nltk_data] Downloading package stopwords to /root/nltk_data...\n",
            "[nltk_data]   Package stopwords is already up-to-date!\n",
            "[nltk_data] Downloading package punkt to /root/nltk_data...\n",
            "[nltk_data]   Package punkt is already up-to-date!\n",
            "[nltk_data] Downloading package wordnet to /root/nltk_data...\n",
            "[nltk_data]   Package wordnet is already up-to-date!\n",
            "[nltk_data] Downloading package averaged_perceptron_tagger to\n",
            "[nltk_data]     /root/nltk_data...\n",
            "[nltk_data]   Package averaged_perceptron_tagger is already up-to-\n",
            "[nltk_data]       date!\n"
          ]
        }
      ]
    },
    {
      "cell_type": "markdown",
      "metadata": {
        "id": "fY0UH4zne6fc"
      },
      "source": [
        "## Set Up e Funzioni"
      ]
    },
    {
      "cell_type": "code",
      "metadata": {
        "id": "2dN9ik6CgKqh"
      },
      "source": [
        "nltk_stopwords = stopwords.words('english')\n",
        "nltk_stopwords.extend(['rt'])"
      ],
      "execution_count": 11,
      "outputs": []
    },
    {
      "cell_type": "code",
      "metadata": {
        "id": "Lz-qUusDAXTa"
      },
      "source": [
        "def preprocessing(text, tokenize = False, stopwords = [], alphabetic=True, stem=False, lem=False, proc_type=None):\n",
        "\n",
        "  '''\n",
        "  This function to perform some preprocessing on the data:\n",
        "    - The standard list of stopwords is empty and can be arbitrarily replaced.\n",
        "    - It is possible to choose to remove or keep the non-alphabetical tokens.\n",
        "    - it is possible to choose which kind of elaboration perform between nothing, lemmatization, and stemming.\n",
        "    - ...\n",
        "  '''\n",
        "  \n",
        "  #create tokens from text\n",
        "  tokens = word_tokenize(text.lower())\n",
        "\n",
        "  if alphabetic == True: # remove all tokens that are not alphabetic\n",
        "    tokens = [word for word in tokens if word.isalpha()]\n",
        "  else:\n",
        "    tokens = tokens\n",
        " \n",
        "  # remove all stopwords\n",
        "  tokens = [word for word in tokens if not word in stopwords]\n",
        "\n",
        "  # perform stemming or lemmatization and choose what type\n",
        "  if stem == True:\n",
        "    method = proc_type\n",
        "    stem_tokens = [method.stem(token) for token in tokens]\n",
        "    if tokenize == False:\n",
        "      stem_tokens = ' '.join(stem_tokens)\n",
        "      return stem_tokens\n",
        "    else:\n",
        "      return stem_tokens\n",
        "  \n",
        "  elif lem == True:\n",
        "    method = proc_type\n",
        "    lem_tokens = [method.lemmatize(token) for token in tokens]\n",
        "    if tokenize == False:\n",
        "      lem_tokens = ' '.join(lem_tokens)\n",
        "      return lem_tokens\n",
        "    else:\n",
        "      return lem_tokens\n",
        "  \n",
        "  else:\n",
        "    if tokenize == False:\n",
        "      tokens = ' '.join(tokens)\n",
        "      return tokens\n",
        "    else:\n",
        "      return tokens"
      ],
      "execution_count": 12,
      "outputs": []
    },
    {
      "cell_type": "code",
      "metadata": {
        "id": "96LYlkIuExw3"
      },
      "source": [
        "def tfidf_vec(input, ngrams):\n",
        "  vectorizer = TfidfVectorizer(\n",
        "      ngram_range=ngrams,\n",
        "      use_idf=True,\n",
        "      lowercase = False,\n",
        "      smooth_idf=False,\n",
        "      decode_error='replace',\n",
        "      max_features=10000,\n",
        "      min_df=5,\n",
        "      max_df=0.501\n",
        "      )\n",
        "  matrix = vectorizer.fit_transform(input).toarray()\n",
        "  return matrix"
      ],
      "execution_count": 13,
      "outputs": []
    },
    {
      "cell_type": "markdown",
      "metadata": {
        "id": "UX_krm8Yfskl"
      },
      "source": [
        "## Caricamento del data set classificato"
      ]
    },
    {
      "cell_type": "markdown",
      "metadata": {
        "id": "s920gStMw6ch"
      },
      "source": [
        "Download of labeled data."
      ]
    },
    {
      "cell_type": "code",
      "metadata": {
        "colab": {
          "base_uri": "https://localhost:8080/",
          "height": 441
        },
        "id": "oia2jtzojiNh",
        "outputId": "4b0c9771-1998-4a86-f1e7-285f3db56438"
      },
      "source": [
        "labeled_data = pd.read_csv('https://raw.githubusercontent.com/t-davidson/hate-speech-and-offensive-language/master/data/labeled_data.csv')\n",
        "pd.set_option('display.max_colwidth', None)\n",
        "\n",
        "labeled_data = labeled_data.drop(columns=['Unnamed: 0'])\n",
        "display(labeled_data)"
      ],
      "execution_count": 14,
      "outputs": [
        {
          "output_type": "display_data",
          "data": {
            "text/html": [
              "<div>\n",
              "<style scoped>\n",
              "    .dataframe tbody tr th:only-of-type {\n",
              "        vertical-align: middle;\n",
              "    }\n",
              "\n",
              "    .dataframe tbody tr th {\n",
              "        vertical-align: top;\n",
              "    }\n",
              "\n",
              "    .dataframe thead th {\n",
              "        text-align: right;\n",
              "    }\n",
              "</style>\n",
              "<table border=\"1\" class=\"dataframe\">\n",
              "  <thead>\n",
              "    <tr style=\"text-align: right;\">\n",
              "      <th></th>\n",
              "      <th>count</th>\n",
              "      <th>hate_speech</th>\n",
              "      <th>offensive_language</th>\n",
              "      <th>neither</th>\n",
              "      <th>class</th>\n",
              "      <th>tweet</th>\n",
              "    </tr>\n",
              "  </thead>\n",
              "  <tbody>\n",
              "    <tr>\n",
              "      <th>0</th>\n",
              "      <td>3</td>\n",
              "      <td>0</td>\n",
              "      <td>0</td>\n",
              "      <td>3</td>\n",
              "      <td>2</td>\n",
              "      <td>!!! RT @mayasolovely: As a woman you shouldn't complain about cleaning up your house. &amp;amp; as a man you should always take the trash out...</td>\n",
              "    </tr>\n",
              "    <tr>\n",
              "      <th>1</th>\n",
              "      <td>3</td>\n",
              "      <td>0</td>\n",
              "      <td>3</td>\n",
              "      <td>0</td>\n",
              "      <td>1</td>\n",
              "      <td>!!!!! RT @mleew17: boy dats cold...tyga dwn bad for cuffin dat hoe in the 1st place!!</td>\n",
              "    </tr>\n",
              "    <tr>\n",
              "      <th>2</th>\n",
              "      <td>3</td>\n",
              "      <td>0</td>\n",
              "      <td>3</td>\n",
              "      <td>0</td>\n",
              "      <td>1</td>\n",
              "      <td>!!!!!!! RT @UrKindOfBrand Dawg!!!! RT @80sbaby4life: You ever fuck a bitch and she start to cry? You be confused as shit</td>\n",
              "    </tr>\n",
              "    <tr>\n",
              "      <th>3</th>\n",
              "      <td>3</td>\n",
              "      <td>0</td>\n",
              "      <td>2</td>\n",
              "      <td>1</td>\n",
              "      <td>1</td>\n",
              "      <td>!!!!!!!!! RT @C_G_Anderson: @viva_based she look like a tranny</td>\n",
              "    </tr>\n",
              "    <tr>\n",
              "      <th>4</th>\n",
              "      <td>6</td>\n",
              "      <td>0</td>\n",
              "      <td>6</td>\n",
              "      <td>0</td>\n",
              "      <td>1</td>\n",
              "      <td>!!!!!!!!!!!!! RT @ShenikaRoberts: The shit you hear about me might be true or it might be faker than the bitch who told it to ya &amp;#57361;</td>\n",
              "    </tr>\n",
              "    <tr>\n",
              "      <th>...</th>\n",
              "      <td>...</td>\n",
              "      <td>...</td>\n",
              "      <td>...</td>\n",
              "      <td>...</td>\n",
              "      <td>...</td>\n",
              "      <td>...</td>\n",
              "    </tr>\n",
              "    <tr>\n",
              "      <th>24778</th>\n",
              "      <td>3</td>\n",
              "      <td>0</td>\n",
              "      <td>2</td>\n",
              "      <td>1</td>\n",
              "      <td>1</td>\n",
              "      <td>you's a muthaf***in lie &amp;#8220;@LifeAsKing: @20_Pearls @corey_emanuel right! His TL is trash &amp;#8230;. Now, mine? Bible scriptures and hymns&amp;#8221;</td>\n",
              "    </tr>\n",
              "    <tr>\n",
              "      <th>24779</th>\n",
              "      <td>3</td>\n",
              "      <td>0</td>\n",
              "      <td>1</td>\n",
              "      <td>2</td>\n",
              "      <td>2</td>\n",
              "      <td>you've gone and broke the wrong heart baby, and drove me redneck crazy</td>\n",
              "    </tr>\n",
              "    <tr>\n",
              "      <th>24780</th>\n",
              "      <td>3</td>\n",
              "      <td>0</td>\n",
              "      <td>3</td>\n",
              "      <td>0</td>\n",
              "      <td>1</td>\n",
              "      <td>young buck wanna eat!!.. dat nigguh like I aint fuckin dis up again</td>\n",
              "    </tr>\n",
              "    <tr>\n",
              "      <th>24781</th>\n",
              "      <td>6</td>\n",
              "      <td>0</td>\n",
              "      <td>6</td>\n",
              "      <td>0</td>\n",
              "      <td>1</td>\n",
              "      <td>youu got wild bitches tellin you lies</td>\n",
              "    </tr>\n",
              "    <tr>\n",
              "      <th>24782</th>\n",
              "      <td>3</td>\n",
              "      <td>0</td>\n",
              "      <td>0</td>\n",
              "      <td>3</td>\n",
              "      <td>2</td>\n",
              "      <td>~~Ruffled | Ntac Eileen Dahlia - Beautiful color combination of pink, orange, yellow &amp;amp; white. A Coll http://t.co/H0dYEBvnZB</td>\n",
              "    </tr>\n",
              "  </tbody>\n",
              "</table>\n",
              "<p>24783 rows × 6 columns</p>\n",
              "</div>"
            ],
            "text/plain": [
              "       count  ...                                                                                                                                               tweet\n",
              "0          3  ...        !!! RT @mayasolovely: As a woman you shouldn't complain about cleaning up your house. &amp; as a man you should always take the trash out...\n",
              "1          3  ...                                                               !!!!! RT @mleew17: boy dats cold...tyga dwn bad for cuffin dat hoe in the 1st place!!\n",
              "2          3  ...                            !!!!!!! RT @UrKindOfBrand Dawg!!!! RT @80sbaby4life: You ever fuck a bitch and she start to cry? You be confused as shit\n",
              "3          3  ...                                                                                      !!!!!!!!! RT @C_G_Anderson: @viva_based she look like a tranny\n",
              "4          6  ...           !!!!!!!!!!!!! RT @ShenikaRoberts: The shit you hear about me might be true or it might be faker than the bitch who told it to ya &#57361;\n",
              "...      ...  ...                                                                                                                                                 ...\n",
              "24778      3  ...  you's a muthaf***in lie &#8220;@LifeAsKing: @20_Pearls @corey_emanuel right! His TL is trash &#8230;. Now, mine? Bible scriptures and hymns&#8221;\n",
              "24779      3  ...                                                                              you've gone and broke the wrong heart baby, and drove me redneck crazy\n",
              "24780      3  ...                                                                                 young buck wanna eat!!.. dat nigguh like I aint fuckin dis up again\n",
              "24781      6  ...                                                                                                               youu got wild bitches tellin you lies\n",
              "24782      3  ...                     ~~Ruffled | Ntac Eileen Dahlia - Beautiful color combination of pink, orange, yellow &amp; white. A Coll http://t.co/H0dYEBvnZB\n",
              "\n",
              "[24783 rows x 6 columns]"
            ]
          },
          "metadata": {}
        }
      ]
    },
    {
      "cell_type": "code",
      "metadata": {
        "colab": {
          "base_uri": "https://localhost:8080/",
          "height": 467
        },
        "id": "YlWRwFZWAj04",
        "outputId": "701e423d-b648-4a04-aa94-b64bddf899ab"
      },
      "source": [
        "labeled_data['clean_sents'] = labeled_data.apply(lambda row: preprocessing(row['tweet'], stopwords = ['rt'],\n",
        "                                                                           stem = True, lem = False, proc_type = PorterStemmer(), tokenize = False), axis=1)\n",
        "labeled_data.head(10)"
      ],
      "execution_count": 17,
      "outputs": [
        {
          "output_type": "execute_result",
          "data": {
            "text/html": [
              "<div>\n",
              "<style scoped>\n",
              "    .dataframe tbody tr th:only-of-type {\n",
              "        vertical-align: middle;\n",
              "    }\n",
              "\n",
              "    .dataframe tbody tr th {\n",
              "        vertical-align: top;\n",
              "    }\n",
              "\n",
              "    .dataframe thead th {\n",
              "        text-align: right;\n",
              "    }\n",
              "</style>\n",
              "<table border=\"1\" class=\"dataframe\">\n",
              "  <thead>\n",
              "    <tr style=\"text-align: right;\">\n",
              "      <th></th>\n",
              "      <th>count</th>\n",
              "      <th>hate_speech</th>\n",
              "      <th>offensive_language</th>\n",
              "      <th>neither</th>\n",
              "      <th>class</th>\n",
              "      <th>tweet</th>\n",
              "      <th>clean_sents</th>\n",
              "    </tr>\n",
              "  </thead>\n",
              "  <tbody>\n",
              "    <tr>\n",
              "      <th>0</th>\n",
              "      <td>3</td>\n",
              "      <td>0</td>\n",
              "      <td>0</td>\n",
              "      <td>3</td>\n",
              "      <td>2</td>\n",
              "      <td>!!! RT @mayasolovely: As a woman you shouldn't complain about cleaning up your house. &amp;amp; as a man you should always take the trash out...</td>\n",
              "      <td>mayasolov as a woman you should complain about clean up your hous amp as a man you should alway take the trash out</td>\n",
              "    </tr>\n",
              "    <tr>\n",
              "      <th>1</th>\n",
              "      <td>3</td>\n",
              "      <td>0</td>\n",
              "      <td>3</td>\n",
              "      <td>0</td>\n",
              "      <td>1</td>\n",
              "      <td>!!!!! RT @mleew17: boy dats cold...tyga dwn bad for cuffin dat hoe in the 1st place!!</td>\n",
              "      <td>boy dat cold tyga dwn bad for cuffin dat hoe in the place</td>\n",
              "    </tr>\n",
              "    <tr>\n",
              "      <th>2</th>\n",
              "      <td>3</td>\n",
              "      <td>0</td>\n",
              "      <td>3</td>\n",
              "      <td>0</td>\n",
              "      <td>1</td>\n",
              "      <td>!!!!!!! RT @UrKindOfBrand Dawg!!!! RT @80sbaby4life: You ever fuck a bitch and she start to cry? You be confused as shit</td>\n",
              "      <td>urkindofbrand dawg you ever fuck a bitch and she start to cri you be confus as shit</td>\n",
              "    </tr>\n",
              "    <tr>\n",
              "      <th>3</th>\n",
              "      <td>3</td>\n",
              "      <td>0</td>\n",
              "      <td>2</td>\n",
              "      <td>1</td>\n",
              "      <td>1</td>\n",
              "      <td>!!!!!!!!! RT @C_G_Anderson: @viva_based she look like a tranny</td>\n",
              "      <td>she look like a tranni</td>\n",
              "    </tr>\n",
              "    <tr>\n",
              "      <th>4</th>\n",
              "      <td>6</td>\n",
              "      <td>0</td>\n",
              "      <td>6</td>\n",
              "      <td>0</td>\n",
              "      <td>1</td>\n",
              "      <td>!!!!!!!!!!!!! RT @ShenikaRoberts: The shit you hear about me might be true or it might be faker than the bitch who told it to ya &amp;#57361;</td>\n",
              "      <td>shenikarobert the shit you hear about me might be true or it might be faker than the bitch who told it to ya</td>\n",
              "    </tr>\n",
              "    <tr>\n",
              "      <th>5</th>\n",
              "      <td>3</td>\n",
              "      <td>1</td>\n",
              "      <td>2</td>\n",
              "      <td>0</td>\n",
              "      <td>1</td>\n",
              "      <td>!!!!!!!!!!!!!!!!!!\"@T_Madison_x: The shit just blows me..claim you so faithful and down for somebody but still fucking with hoes! &amp;#128514;&amp;#128514;&amp;#128514;\"</td>\n",
              "      <td>the shit just blow you so faith and down for somebodi but still fuck with hoe</td>\n",
              "    </tr>\n",
              "    <tr>\n",
              "      <th>6</th>\n",
              "      <td>3</td>\n",
              "      <td>0</td>\n",
              "      <td>3</td>\n",
              "      <td>0</td>\n",
              "      <td>1</td>\n",
              "      <td>!!!!!!\"@__BrighterDays: I can not just sit up and HATE on another bitch .. I got too much shit going on!\"</td>\n",
              "      <td>i can not just sit up and hate on anoth bitch i got too much shit go on</td>\n",
              "    </tr>\n",
              "    <tr>\n",
              "      <th>7</th>\n",
              "      <td>3</td>\n",
              "      <td>0</td>\n",
              "      <td>3</td>\n",
              "      <td>0</td>\n",
              "      <td>1</td>\n",
              "      <td>!!!!&amp;#8220;@selfiequeenbri: cause I'm tired of you big bitches coming for us skinny girls!!&amp;#8221;</td>\n",
              "      <td>selfiequeenbri caus i tire of you big bitch come for us skinni girl</td>\n",
              "    </tr>\n",
              "    <tr>\n",
              "      <th>8</th>\n",
              "      <td>3</td>\n",
              "      <td>0</td>\n",
              "      <td>3</td>\n",
              "      <td>0</td>\n",
              "      <td>1</td>\n",
              "      <td>\" &amp;amp; you might not get ya bitch back &amp;amp; thats that \"</td>\n",
              "      <td>amp you might not get ya bitch back amp that that</td>\n",
              "    </tr>\n",
              "    <tr>\n",
              "      <th>9</th>\n",
              "      <td>3</td>\n",
              "      <td>1</td>\n",
              "      <td>2</td>\n",
              "      <td>0</td>\n",
              "      <td>1</td>\n",
              "      <td>\" @rhythmixx_ :hobbies include: fighting Mariam\"\\n\\nbitch</td>\n",
              "      <td>hobbi includ fight mariam bitch</td>\n",
              "    </tr>\n",
              "  </tbody>\n",
              "</table>\n",
              "</div>"
            ],
            "text/plain": [
              "   count  ...                                                                                                         clean_sents\n",
              "0      3  ...  mayasolov as a woman you should complain about clean up your hous amp as a man you should alway take the trash out\n",
              "1      3  ...                                                           boy dat cold tyga dwn bad for cuffin dat hoe in the place\n",
              "2      3  ...                                 urkindofbrand dawg you ever fuck a bitch and she start to cri you be confus as shit\n",
              "3      3  ...                                                                                              she look like a tranni\n",
              "4      6  ...        shenikarobert the shit you hear about me might be true or it might be faker than the bitch who told it to ya\n",
              "5      3  ...                                       the shit just blow you so faith and down for somebodi but still fuck with hoe\n",
              "6      3  ...                                             i can not just sit up and hate on anoth bitch i got too much shit go on\n",
              "7      3  ...                                                 selfiequeenbri caus i tire of you big bitch come for us skinni girl\n",
              "8      3  ...                                                                   amp you might not get ya bitch back amp that that\n",
              "9      3  ...                                                                                     hobbi includ fight mariam bitch\n",
              "\n",
              "[10 rows x 7 columns]"
            ]
          },
          "metadata": {},
          "execution_count": 17
        }
      ]
    },
    {
      "cell_type": "code",
      "metadata": {
        "id": "lc_jiC6pbgeA"
      },
      "source": [
        "labeled_data.drop(['count', 'hate_speech', 'offensive_language', 'neither', 'tweet'],axis=1,inplace=True)"
      ],
      "execution_count": 18,
      "outputs": []
    },
    {
      "cell_type": "code",
      "metadata": {
        "colab": {
          "base_uri": "https://localhost:8080/",
          "height": 734
        },
        "id": "bB3v9gp0SCfG",
        "outputId": "0bdc0f91-1239-4cf7-d651-fa50f56b3dde"
      },
      "source": [
        "#use only if tokenize was set equal to false (default) in preprocessing function\n",
        "labeled_data['tokens'] = labeled_data['clean_sents'].map(lambda x: word_tokenize(x))\n",
        "\n",
        "labeled_data.head()"
      ],
      "execution_count": null,
      "outputs": [
        {
          "output_type": "execute_result",
          "data": {
            "text/html": [
              "<div>\n",
              "<style scoped>\n",
              "    .dataframe tbody tr th:only-of-type {\n",
              "        vertical-align: middle;\n",
              "    }\n",
              "\n",
              "    .dataframe tbody tr th {\n",
              "        vertical-align: top;\n",
              "    }\n",
              "\n",
              "    .dataframe thead th {\n",
              "        text-align: right;\n",
              "    }\n",
              "</style>\n",
              "<table border=\"1\" class=\"dataframe\">\n",
              "  <thead>\n",
              "    <tr style=\"text-align: right;\">\n",
              "      <th></th>\n",
              "      <th>class</th>\n",
              "      <th>clean_sents</th>\n",
              "      <th>tokens</th>\n",
              "    </tr>\n",
              "  </thead>\n",
              "  <tbody>\n",
              "    <tr>\n",
              "      <th>0</th>\n",
              "      <td>2</td>\n",
              "      <td>mayasolovely a a woman you should complain about cleaning up your house amp a a man you should always take the trash out</td>\n",
              "      <td>[mayasolovely, a, a, woman, you, should, complain, about, cleaning, up, your, house, amp, a, a, man, you, should, always, take, the, trash, out]</td>\n",
              "    </tr>\n",
              "    <tr>\n",
              "      <th>1</th>\n",
              "      <td>1</td>\n",
              "      <td>boy dat cold tyga dwn bad for cuffin dat hoe in the place</td>\n",
              "      <td>[boy, dat, cold, tyga, dwn, bad, for, cuffin, dat, hoe, in, the, place]</td>\n",
              "    </tr>\n",
              "    <tr>\n",
              "      <th>2</th>\n",
              "      <td>1</td>\n",
              "      <td>urkindofbrand dawg you ever fuck a bitch and she start to cry you be confused a shit</td>\n",
              "      <td>[urkindofbrand, dawg, you, ever, fuck, a, bitch, and, she, start, to, cry, you, be, confused, a, shit]</td>\n",
              "    </tr>\n",
              "    <tr>\n",
              "      <th>3</th>\n",
              "      <td>1</td>\n",
              "      <td>she look like a tranny</td>\n",
              "      <td>[she, look, like, a, tranny]</td>\n",
              "    </tr>\n",
              "    <tr>\n",
              "      <th>4</th>\n",
              "      <td>1</td>\n",
              "      <td>shenikaroberts the shit you hear about me might be true or it might be faker than the bitch who told it to ya</td>\n",
              "      <td>[shenikaroberts, the, shit, you, hear, about, me, might, be, true, or, it, might, be, faker, than, the, bitch, who, told, it, to, ya]</td>\n",
              "    </tr>\n",
              "  </tbody>\n",
              "</table>\n",
              "</div>"
            ],
            "text/plain": [
              "   class  ...                                                                                                                                            tokens\n",
              "0      2  ...  [mayasolovely, a, a, woman, you, should, complain, about, cleaning, up, your, house, amp, a, a, man, you, should, always, take, the, trash, out]\n",
              "1      1  ...                                                                           [boy, dat, cold, tyga, dwn, bad, for, cuffin, dat, hoe, in, the, place]\n",
              "2      1  ...                                            [urkindofbrand, dawg, you, ever, fuck, a, bitch, and, she, start, to, cry, you, be, confused, a, shit]\n",
              "3      1  ...                                                                                                                      [she, look, like, a, tranny]\n",
              "4      1  ...             [shenikaroberts, the, shit, you, hear, about, me, might, be, true, or, it, might, be, faker, than, the, bitch, who, told, it, to, ya]\n",
              "\n",
              "[5 rows x 3 columns]"
            ]
          },
          "metadata": {},
          "execution_count": 9
        }
      ]
    },
    {
      "cell_type": "code",
      "metadata": {
        "id": "Hv4Lkj_gRD4x"
      },
      "source": [
        "#Get POS tags for tweets and save as a string\n",
        "tweet_tags = []\n",
        "for t in labeled_data['tokens']:\n",
        "  tags = nltk.pos_tag(t)\n",
        "  tag_list = [x[1] for x in tags]\n",
        "  tag_str = \" \".join(tag_list)\n",
        "  tweet_tags.append(tag_str)"
      ],
      "execution_count": null,
      "outputs": []
    },
    {
      "cell_type": "code",
      "metadata": {
        "id": "T0wr7k3NUT4y"
      },
      "source": [
        "#We can use the TFIDF vectorizer to get a token matrix for the POS tags\n",
        "pos_vectorizer = TfidfVectorizer(\n",
        "    tokenizer=None,\n",
        "    lowercase=False,\n",
        "    preprocessor=None,\n",
        "    ngram_range=(1, 3),\n",
        "    stop_words=None,\n",
        "    use_idf=False,\n",
        "    smooth_idf=False,\n",
        "    norm=None,\n",
        "    decode_error='replace',\n",
        "    max_features=5000,\n",
        "    min_df=5,\n",
        "    max_df=0.501,\n",
        "    )\n",
        "\n",
        "pos = pos_vectorizer.fit_transform(pd.Series(tweet_tags)).toarray()"
      ],
      "execution_count": null,
      "outputs": []
    },
    {
      "cell_type": "code",
      "metadata": {
        "id": "hVVryInI_guc"
      },
      "source": [
        "X = tfidf_vec(labeled_data.clean_sents, (1,3))\n",
        "y = labeled_data['class']"
      ],
      "execution_count": null,
      "outputs": []
    },
    {
      "cell_type": "code",
      "metadata": {
        "id": "5eFYlZnEVqXM"
      },
      "source": [
        "X_pos = np.concatenate([X, pos], axis = 1)"
      ],
      "execution_count": null,
      "outputs": []
    },
    {
      "cell_type": "code",
      "metadata": {
        "id": "LbKi2vEBVnjn"
      },
      "source": [
        "X_train, X_test, y_train, y_test = train_test_split(X_pos, y, test_size=0.25, random_state=42)"
      ],
      "execution_count": null,
      "outputs": []
    },
    {
      "cell_type": "markdown",
      "metadata": {
        "id": "R9rKuwLtc_u2"
      },
      "source": [
        "## SMOTE Algorithm"
      ]
    },
    {
      "cell_type": "code",
      "metadata": {
        "id": "9bjTm-PHbytd",
        "colab": {
          "base_uri": "https://localhost:8080/"
        },
        "outputId": "d68bda9d-f1bc-415d-eeb6-fd3f9b3f1fa3"
      },
      "source": [
        "pd.value_counts(y_train)"
      ],
      "execution_count": null,
      "outputs": [
        {
          "output_type": "execute_result",
          "data": {
            "text/plain": [
              "1    14396\n",
              "2     3122\n",
              "0     1069\n",
              "Name: class, dtype: int64"
            ]
          },
          "metadata": {},
          "execution_count": 15
        }
      ]
    },
    {
      "cell_type": "code",
      "metadata": {
        "id": "FXukPp8MaVag",
        "colab": {
          "base_uri": "https://localhost:8080/",
          "height": 54
        },
        "outputId": "09b5b71d-e713-486a-9c96-da1637fa7492"
      },
      "source": [
        "plt.bar(np.arange(0, 3), np.bincount(y))\n",
        "plt.title('Frequency of the classes')\n",
        "plt.xlabel('classes')\n",
        "plt.ylabel('frequency')\n",
        "plt.show()"
      ],
      "execution_count": null,
      "outputs": [
        {
          "output_type": "display_data",
          "data": {
            "image/png": "[encoded data removed]",
            "text/plain": [
              "<Figure size 432x288 with 1 Axes>"
            ]
          },
          "metadata": {
            "needs_background": "light"
          }
        }
      ]
    },
    {
      "cell_type": "code",
      "metadata": {
        "id": "ua7fTRdZc_hK"
      },
      "source": [
        "from imblearn.over_sampling import SMOTE\n",
        "from imblearn.under_sampling import RandomUnderSampler"
      ],
      "execution_count": 23,
      "outputs": []
    },
    {
      "cell_type": "code",
      "metadata": {
        "id": "flfc37npc_eP"
      },
      "source": [
        "# transform the dataset\n",
        "strategy = {1:8638}\n",
        "undersample = RandomUnderSampler(sampling_strategy=strategy)\n",
        "X_train_smote, y_train_smote = undersample.fit_resample(X_train, y_train)"
      ],
      "execution_count": 24,
      "outputs": []
    },
    {
      "cell_type": "code",
      "metadata": {
        "colab": {
          "base_uri": "https://localhost:8080/"
        },
        "id": "ii1QZ_fgjTnp",
        "outputId": "fd3a1700-10d3-4912-ea4b-222bd5781010"
      },
      "source": [
        "X_train_smote.shape"
      ],
      "execution_count": null,
      "outputs": [
        {
          "output_type": "execute_result",
          "data": {
            "text/plain": [
              "(12829, 13920)"
            ]
          },
          "metadata": {},
          "execution_count": 19
        }
      ]
    },
    {
      "cell_type": "code",
      "metadata": {
        "id": "QJrQrBd2c_bR",
        "colab": {
          "base_uri": "https://localhost:8080/"
        },
        "outputId": "6573d5b2-5723-4711-cf1d-a393645866d1"
      },
      "source": [
        "pd.value_counts(y_train_smote)"
      ],
      "execution_count": null,
      "outputs": [
        {
          "output_type": "execute_result",
          "data": {
            "text/plain": [
              "1    8638\n",
              "2    3122\n",
              "0    1069\n",
              "Name: class, dtype: int64"
            ]
          },
          "metadata": {},
          "execution_count": 20
        }
      ]
    },
    {
      "cell_type": "markdown",
      "metadata": {
        "id": "AGd0kVlltms2"
      },
      "source": [
        "## save/load dataset"
      ]
    },
    {
      "cell_type": "code",
      "metadata": {
        "id": "Bz_vH1f8tkTq",
        "colab": {
          "base_uri": "https://localhost:8080/"
        },
        "outputId": "9de54ca4-cc0b-4956-d155-afd04005f36a"
      },
      "source": [
        "from google.colab import drive\n",
        "drive.mount('/content/drive')\n",
        "%cd /content/drive/My\\ Drive/Sentiment_data"
      ],
      "execution_count": null,
      "outputs": [
        {
          "output_type": "stream",
          "name": "stdout",
          "text": [
            "Drive already mounted at /content/drive; to attempt to forcibly remount, call drive.mount(\"/content/drive\", force_remount=True).\n",
            "/content/drive/My Drive/Sentiment_data\n"
          ]
        }
      ]
    },
    {
      "cell_type": "code",
      "metadata": {
        "id": "5Yd8FWfRiYAS"
      },
      "source": [
        "import pickle"
      ],
      "execution_count": null,
      "outputs": []
    },
    {
      "cell_type": "code",
      "metadata": {
        "id": "QNSuTYg6h5k0"
      },
      "source": [
        "# with open('portstem_data.pickle', 'wb') as output:\n",
        "#     pickle.dump(X_train_smote, output)\n",
        "# with open('portstem_target.pickle', 'wb') as output:\n",
        "#     pickle.dump(y_train_smote, output)\n",
        "# with open('portstem_test.pickle', 'wb') as output:\n",
        "#     pickle.dump(X_test, output)\n",
        "# with open('portstem_test_target.pickle', 'wb') as output:\n",
        "#     pickle.dump(y_test, output)"
      ],
      "execution_count": null,
      "outputs": []
    },
    {
      "cell_type": "code",
      "metadata": {
        "id": "mUNEacqvh5iA"
      },
      "source": [
        "#load data\n",
        "\n",
        "with open('portstem_target.pickle', 'rb') as data:\n",
        "    y_train = pickle.load(data)\n",
        "with open('portstem_data.pickle', 'rb') as data:\n",
        "    X_train = pickle.load(data)\n",
        "\n",
        "with open('portstem_test_target.pickle', 'rb') as data:\n",
        "    y_test = pickle.load(data)\n",
        "with open('portstem_test.pickle', 'rb') as data:\n",
        "    X_test = pickle.load(data)\n"
      ],
      "execution_count": null,
      "outputs": []
    },
    {
      "cell_type": "markdown",
      "metadata": {
        "id": "jITagIcRW1Os"
      },
      "source": [
        "## modelli base"
      ]
    },
    {
      "cell_type": "markdown",
      "metadata": {
        "id": "Ztqf54opBsdk"
      },
      "source": [
        "### Random Forest"
      ]
    },
    {
      "cell_type": "code",
      "metadata": {
        "id": "0GQJ6hvbR-qp",
        "colab": {
          "base_uri": "https://localhost:8080/"
        },
        "outputId": "40934858-8a71-410a-a258-706960e3aee8"
      },
      "source": [
        "classifier = RandomForestClassifier(n_estimators=300, random_state=42, verbose = 40, class_weight='balanced')\n",
        "classifier.fit(X_train, y_train) \n",
        "y_pred = classifier.predict(X_test)"
      ],
      "execution_count": null,
      "outputs": [
        {
          "output_type": "stream",
          "name": "stderr",
          "text": [
            "[Parallel(n_jobs=1)]: Using backend SequentialBackend with 1 concurrent workers.\n"
          ]
        },
        {
          "output_type": "stream",
          "name": "stdout",
          "text": [
            "building tree 1 of 300\n"
          ]
        },
        {
          "output_type": "stream",
          "name": "stderr",
          "text": [
            "[Parallel(n_jobs=1)]: Done   1 out of   1 | elapsed:    0.8s remaining:    0.0s\n"
          ]
        },
        {
          "output_type": "stream",
          "name": "stdout",
          "text": [
            "building tree 2 of 300\n"
          ]
        },
        {
          "output_type": "stream",
          "name": "stderr",
          "text": [
            "[Parallel(n_jobs=1)]: Done   2 out of   2 | elapsed:    1.7s remaining:    0.0s\n"
          ]
        },
        {
          "output_type": "stream",
          "name": "stdout",
          "text": [
            "building tree 3 of 300\n"
          ]
        },
        {
          "output_type": "stream",
          "name": "stderr",
          "text": [
            "[Parallel(n_jobs=1)]: Done   3 out of   3 | elapsed:    2.8s remaining:    0.0s\n"
          ]
        },
        {
          "output_type": "stream",
          "name": "stdout",
          "text": [
            "building tree 4 of 300\n"
          ]
        },
        {
          "output_type": "stream",
          "name": "stderr",
          "text": [
            "[Parallel(n_jobs=1)]: Done   4 out of   4 | elapsed:    3.6s remaining:    0.0s\n"
          ]
        },
        {
          "output_type": "stream",
          "name": "stdout",
          "text": [
            "building tree 5 of 300\n"
          ]
        },
        {
          "output_type": "stream",
          "name": "stderr",
          "text": [
            "[Parallel(n_jobs=1)]: Done   5 out of   5 | elapsed:    4.5s remaining:    0.0s\n"
          ]
        },
        {
          "output_type": "stream",
          "name": "stdout",
          "text": [
            "building tree 6 of 300\n"
          ]
        },
        {
          "output_type": "stream",
          "name": "stderr",
          "text": [
            "[Parallel(n_jobs=1)]: Done   6 out of   6 | elapsed:    5.3s remaining:    0.0s\n"
          ]
        },
        {
          "output_type": "stream",
          "name": "stdout",
          "text": [
            "building tree 7 of 300\n"
          ]
        },
        {
          "output_type": "stream",
          "name": "stderr",
          "text": [
            "[Parallel(n_jobs=1)]: Done   7 out of   7 | elapsed:    6.4s remaining:    0.0s\n"
          ]
        },
        {
          "output_type": "stream",
          "name": "stdout",
          "text": [
            "building tree 8 of 300\n"
          ]
        },
        {
          "output_type": "stream",
          "name": "stderr",
          "text": [
            "[Parallel(n_jobs=1)]: Done   8 out of   8 | elapsed:    7.3s remaining:    0.0s\n"
          ]
        },
        {
          "output_type": "stream",
          "name": "stdout",
          "text": [
            "building tree 9 of 300\n"
          ]
        },
        {
          "output_type": "stream",
          "name": "stderr",
          "text": [
            "[Parallel(n_jobs=1)]: Done   9 out of   9 | elapsed:    8.6s remaining:    0.0s\n"
          ]
        },
        {
          "output_type": "stream",
          "name": "stdout",
          "text": [
            "building tree 10 of 300\n"
          ]
        },
        {
          "output_type": "stream",
          "name": "stderr",
          "text": [
            "[Parallel(n_jobs=1)]: Done  10 out of  10 | elapsed:    9.5s remaining:    0.0s\n"
          ]
        },
        {
          "output_type": "stream",
          "name": "stdout",
          "text": [
            "building tree 11 of 300\n"
          ]
        },
        {
          "output_type": "stream",
          "name": "stderr",
          "text": [
            "[Parallel(n_jobs=1)]: Done  11 out of  11 | elapsed:   10.4s remaining:    0.0s\n"
          ]
        },
        {
          "output_type": "stream",
          "name": "stdout",
          "text": [
            "building tree 12 of 300\n"
          ]
        },
        {
          "output_type": "stream",
          "name": "stderr",
          "text": [
            "[Parallel(n_jobs=1)]: Done  12 out of  12 | elapsed:   11.4s remaining:    0.0s\n"
          ]
        },
        {
          "output_type": "stream",
          "name": "stdout",
          "text": [
            "building tree 13 of 300\n"
          ]
        },
        {
          "output_type": "stream",
          "name": "stderr",
          "text": [
            "[Parallel(n_jobs=1)]: Done  13 out of  13 | elapsed:   12.3s remaining:    0.0s\n"
          ]
        },
        {
          "output_type": "stream",
          "name": "stdout",
          "text": [
            "building tree 14 of 300\n"
          ]
        },
        {
          "output_type": "stream",
          "name": "stderr",
          "text": [
            "[Parallel(n_jobs=1)]: Done  14 out of  14 | elapsed:   13.4s remaining:    0.0s\n"
          ]
        },
        {
          "output_type": "stream",
          "name": "stdout",
          "text": [
            "building tree 15 of 300\n"
          ]
        },
        {
          "output_type": "stream",
          "name": "stderr",
          "text": [
            "[Parallel(n_jobs=1)]: Done  15 out of  15 | elapsed:   14.3s remaining:    0.0s\n"
          ]
        },
        {
          "output_type": "stream",
          "name": "stdout",
          "text": [
            "building tree 16 of 300\n"
          ]
        },
        {
          "output_type": "stream",
          "name": "stderr",
          "text": [
            "[Parallel(n_jobs=1)]: Done  16 out of  16 | elapsed:   15.4s remaining:    0.0s\n"
          ]
        },
        {
          "output_type": "stream",
          "name": "stdout",
          "text": [
            "building tree 17 of 300\n"
          ]
        },
        {
          "output_type": "stream",
          "name": "stderr",
          "text": [
            "[Parallel(n_jobs=1)]: Done  17 out of  17 | elapsed:   16.3s remaining:    0.0s\n"
          ]
        },
        {
          "output_type": "stream",
          "name": "stdout",
          "text": [
            "building tree 18 of 300\n"
          ]
        },
        {
          "output_type": "stream",
          "name": "stderr",
          "text": [
            "[Parallel(n_jobs=1)]: Done  18 out of  18 | elapsed:   17.3s remaining:    0.0s\n"
          ]
        },
        {
          "output_type": "stream",
          "name": "stdout",
          "text": [
            "building tree 19 of 300\n"
          ]
        },
        {
          "output_type": "stream",
          "name": "stderr",
          "text": [
            "[Parallel(n_jobs=1)]: Done  19 out of  19 | elapsed:   18.3s remaining:    0.0s\n"
          ]
        },
        {
          "output_type": "stream",
          "name": "stdout",
          "text": [
            "building tree 20 of 300\n"
          ]
        },
        {
          "output_type": "stream",
          "name": "stderr",
          "text": [
            "[Parallel(n_jobs=1)]: Done  20 out of  20 | elapsed:   19.3s remaining:    0.0s\n"
          ]
        },
        {
          "output_type": "stream",
          "name": "stdout",
          "text": [
            "building tree 21 of 300\n"
          ]
        },
        {
          "output_type": "stream",
          "name": "stderr",
          "text": [
            "[Parallel(n_jobs=1)]: Done  21 out of  21 | elapsed:   20.3s remaining:    0.0s\n"
          ]
        },
        {
          "output_type": "stream",
          "name": "stdout",
          "text": [
            "building tree 22 of 300\n"
          ]
        },
        {
          "output_type": "stream",
          "name": "stderr",
          "text": [
            "[Parallel(n_jobs=1)]: Done  22 out of  22 | elapsed:   21.1s remaining:    0.0s\n"
          ]
        },
        {
          "output_type": "stream",
          "name": "stdout",
          "text": [
            "building tree 23 of 300\n"
          ]
        },
        {
          "output_type": "stream",
          "name": "stderr",
          "text": [
            "[Parallel(n_jobs=1)]: Done  23 out of  23 | elapsed:   22.0s remaining:    0.0s\n"
          ]
        },
        {
          "output_type": "stream",
          "name": "stdout",
          "text": [
            "building tree 24 of 300\n"
          ]
        },
        {
          "output_type": "stream",
          "name": "stderr",
          "text": [
            "[Parallel(n_jobs=1)]: Done  24 out of  24 | elapsed:   22.8s remaining:    0.0s\n"
          ]
        },
        {
          "output_type": "stream",
          "name": "stdout",
          "text": [
            "building tree 25 of 300\n"
          ]
        },
        {
          "output_type": "stream",
          "name": "stderr",
          "text": [
            "[Parallel(n_jobs=1)]: Done  25 out of  25 | elapsed:   23.8s remaining:    0.0s\n"
          ]
        },
        {
          "output_type": "stream",
          "name": "stdout",
          "text": [
            "building tree 26 of 300\n"
          ]
        },
        {
          "output_type": "stream",
          "name": "stderr",
          "text": [
            "[Parallel(n_jobs=1)]: Done  26 out of  26 | elapsed:   25.0s remaining:    0.0s\n"
          ]
        },
        {
          "output_type": "stream",
          "name": "stdout",
          "text": [
            "building tree 27 of 300\n"
          ]
        },
        {
          "output_type": "stream",
          "name": "stderr",
          "text": [
            "[Parallel(n_jobs=1)]: Done  27 out of  27 | elapsed:   26.0s remaining:    0.0s\n"
          ]
        },
        {
          "output_type": "stream",
          "name": "stdout",
          "text": [
            "building tree 28 of 300\n"
          ]
        },
        {
          "output_type": "stream",
          "name": "stderr",
          "text": [
            "[Parallel(n_jobs=1)]: Done  28 out of  28 | elapsed:   26.9s remaining:    0.0s\n"
          ]
        },
        {
          "output_type": "stream",
          "name": "stdout",
          "text": [
            "building tree 29 of 300\n"
          ]
        },
        {
          "output_type": "stream",
          "name": "stderr",
          "text": [
            "[Parallel(n_jobs=1)]: Done  29 out of  29 | elapsed:   27.9s remaining:    0.0s\n"
          ]
        },
        {
          "output_type": "stream",
          "name": "stdout",
          "text": [
            "building tree 30 of 300\n"
          ]
        },
        {
          "output_type": "stream",
          "name": "stderr",
          "text": [
            "[Parallel(n_jobs=1)]: Done  30 out of  30 | elapsed:   28.8s remaining:    0.0s\n"
          ]
        },
        {
          "output_type": "stream",
          "name": "stdout",
          "text": [
            "building tree 31 of 300\n"
          ]
        },
        {
          "output_type": "stream",
          "name": "stderr",
          "text": [
            "[Parallel(n_jobs=1)]: Done  31 out of  31 | elapsed:   29.7s remaining:    0.0s\n"
          ]
        },
        {
          "output_type": "stream",
          "name": "stdout",
          "text": [
            "building tree 32 of 300\n"
          ]
        },
        {
          "output_type": "stream",
          "name": "stderr",
          "text": [
            "[Parallel(n_jobs=1)]: Done  32 out of  32 | elapsed:   30.6s remaining:    0.0s\n"
          ]
        },
        {
          "output_type": "stream",
          "name": "stdout",
          "text": [
            "building tree 33 of 300\n"
          ]
        },
        {
          "output_type": "stream",
          "name": "stderr",
          "text": [
            "[Parallel(n_jobs=1)]: Done  33 out of  33 | elapsed:   31.6s remaining:    0.0s\n"
          ]
        },
        {
          "output_type": "stream",
          "name": "stdout",
          "text": [
            "building tree 34 of 300\n"
          ]
        },
        {
          "output_type": "stream",
          "name": "stderr",
          "text": [
            "[Parallel(n_jobs=1)]: Done  34 out of  34 | elapsed:   32.6s remaining:    0.0s\n"
          ]
        },
        {
          "output_type": "stream",
          "name": "stdout",
          "text": [
            "building tree 35 of 300\n"
          ]
        },
        {
          "output_type": "stream",
          "name": "stderr",
          "text": [
            "[Parallel(n_jobs=1)]: Done  35 out of  35 | elapsed:   33.7s remaining:    0.0s\n"
          ]
        },
        {
          "output_type": "stream",
          "name": "stdout",
          "text": [
            "building tree 36 of 300\n"
          ]
        },
        {
          "output_type": "stream",
          "name": "stderr",
          "text": [
            "[Parallel(n_jobs=1)]: Done  36 out of  36 | elapsed:   34.6s remaining:    0.0s\n"
          ]
        },
        {
          "output_type": "stream",
          "name": "stdout",
          "text": [
            "building tree 37 of 300\n"
          ]
        },
        {
          "output_type": "stream",
          "name": "stderr",
          "text": [
            "[Parallel(n_jobs=1)]: Done  37 out of  37 | elapsed:   35.5s remaining:    0.0s\n"
          ]
        },
        {
          "output_type": "stream",
          "name": "stdout",
          "text": [
            "building tree 38 of 300\n"
          ]
        },
        {
          "output_type": "stream",
          "name": "stderr",
          "text": [
            "[Parallel(n_jobs=1)]: Done  38 out of  38 | elapsed:   36.7s remaining:    0.0s\n"
          ]
        },
        {
          "output_type": "stream",
          "name": "stdout",
          "text": [
            "building tree 39 of 300\n"
          ]
        },
        {
          "output_type": "stream",
          "name": "stderr",
          "text": [
            "[Parallel(n_jobs=1)]: Done  39 out of  39 | elapsed:   37.9s remaining:    0.0s\n"
          ]
        },
        {
          "output_type": "stream",
          "name": "stdout",
          "text": [
            "building tree 40 of 300\n",
            "building tree 41 of 300\n",
            "building tree 42 of 300\n",
            "building tree 43 of 300\n",
            "building tree 44 of 300\n",
            "building tree 45 of 300\n",
            "building tree 46 of 300\n",
            "building tree 47 of 300\n",
            "building tree 48 of 300\n",
            "building tree 49 of 300\n",
            "building tree 50 of 300\n",
            "building tree 51 of 300\n",
            "building tree 52 of 300\n",
            "building tree 53 of 300\n",
            "building tree 54 of 300\n",
            "building tree 55 of 300\n",
            "building tree 56 of 300\n",
            "building tree 57 of 300\n",
            "building tree 58 of 300\n",
            "building tree 59 of 300\n",
            "building tree 60 of 300\n",
            "building tree 61 of 300\n",
            "building tree 62 of 300\n",
            "building tree 63 of 300\n",
            "building tree 64 of 300\n",
            "building tree 65 of 300\n",
            "building tree 66 of 300\n",
            "building tree 67 of 300\n",
            "building tree 68 of 300\n",
            "building tree 69 of 300\n",
            "building tree 70 of 300\n",
            "building tree 71 of 300\n",
            "building tree 72 of 300\n",
            "building tree 73 of 300\n",
            "building tree 74 of 300\n",
            "building tree 75 of 300\n",
            "building tree 76 of 300\n",
            "building tree 77 of 300\n",
            "building tree 78 of 300\n",
            "building tree 79 of 300\n",
            "building tree 80 of 300\n",
            "building tree 81 of 300\n",
            "building tree 82 of 300\n",
            "building tree 83 of 300\n",
            "building tree 84 of 300\n",
            "building tree 85 of 300\n",
            "building tree 86 of 300\n",
            "building tree 87 of 300\n",
            "building tree 88 of 300\n",
            "building tree 89 of 300\n",
            "building tree 90 of 300\n",
            "building tree 91 of 300\n",
            "building tree 92 of 300\n",
            "building tree 93 of 300\n",
            "building tree 94 of 300\n",
            "building tree 95 of 300\n",
            "building tree 96 of 300\n",
            "building tree 97 of 300\n",
            "building tree 98 of 300\n",
            "building tree 99 of 300\n",
            "building tree 100 of 300\n",
            "building tree 101 of 300\n",
            "building tree 102 of 300\n",
            "building tree 103 of 300\n",
            "building tree 104 of 300\n",
            "building tree 105 of 300\n",
            "building tree 106 of 300\n",
            "building tree 107 of 300\n",
            "building tree 108 of 300\n",
            "building tree 109 of 300\n",
            "building tree 110 of 300\n",
            "building tree 111 of 300\n",
            "building tree 112 of 300\n",
            "building tree 113 of 300\n",
            "building tree 114 of 300\n",
            "building tree 115 of 300\n",
            "building tree 116 of 300\n",
            "building tree 117 of 300\n",
            "building tree 118 of 300\n",
            "building tree 119 of 300\n",
            "building tree 120 of 300\n",
            "building tree 121 of 300\n",
            "building tree 122 of 300\n",
            "building tree 123 of 300\n",
            "building tree 124 of 300\n",
            "building tree 125 of 300\n",
            "building tree 126 of 300\n",
            "building tree 127 of 300\n",
            "building tree 128 of 300\n",
            "building tree 129 of 300\n",
            "building tree 130 of 300\n",
            "building tree 131 of 300\n",
            "building tree 132 of 300\n",
            "building tree 133 of 300\n",
            "building tree 134 of 300\n",
            "building tree 135 of 300\n",
            "building tree 136 of 300\n",
            "building tree 137 of 300\n",
            "building tree 138 of 300\n",
            "building tree 139 of 300\n",
            "building tree 140 of 300\n",
            "building tree 141 of 300\n",
            "building tree 142 of 300\n",
            "building tree 143 of 300\n",
            "building tree 144 of 300\n",
            "building tree 145 of 300\n",
            "building tree 146 of 300\n",
            "building tree 147 of 300\n",
            "building tree 148 of 300\n",
            "building tree 149 of 300\n",
            "building tree 150 of 300\n",
            "building tree 151 of 300\n",
            "building tree 152 of 300\n",
            "building tree 153 of 300\n",
            "building tree 154 of 300\n",
            "building tree 155 of 300\n",
            "building tree 156 of 300\n",
            "building tree 157 of 300\n",
            "building tree 158 of 300\n",
            "building tree 159 of 300\n",
            "building tree 160 of 300\n",
            "building tree 161 of 300\n",
            "building tree 162 of 300\n",
            "building tree 163 of 300\n",
            "building tree 164 of 300\n",
            "building tree 165 of 300\n",
            "building tree 166 of 300\n",
            "building tree 167 of 300\n",
            "building tree 168 of 300\n",
            "building tree 169 of 300\n",
            "building tree 170 of 300\n",
            "building tree 171 of 300\n",
            "building tree 172 of 300\n",
            "building tree 173 of 300\n",
            "building tree 174 of 300\n",
            "building tree 175 of 300\n",
            "building tree 176 of 300\n",
            "building tree 177 of 300\n",
            "building tree 178 of 300\n",
            "building tree 179 of 300\n",
            "building tree 180 of 300\n",
            "building tree 181 of 300\n",
            "building tree 182 of 300\n",
            "building tree 183 of 300\n",
            "building tree 184 of 300\n",
            "building tree 185 of 300\n",
            "building tree 186 of 300\n",
            "building tree 187 of 300\n",
            "building tree 188 of 300\n",
            "building tree 189 of 300\n",
            "building tree 190 of 300\n",
            "building tree 191 of 300\n",
            "building tree 192 of 300\n",
            "building tree 193 of 300\n",
            "building tree 194 of 300\n",
            "building tree 195 of 300\n",
            "building tree 196 of 300\n",
            "building tree 197 of 300\n",
            "building tree 198 of 300\n",
            "building tree 199 of 300\n",
            "building tree 200 of 300\n",
            "building tree 201 of 300\n",
            "building tree 202 of 300\n",
            "building tree 203 of 300\n",
            "building tree 204 of 300\n",
            "building tree 205 of 300\n",
            "building tree 206 of 300\n",
            "building tree 207 of 300\n",
            "building tree 208 of 300\n",
            "building tree 209 of 300\n",
            "building tree 210 of 300\n",
            "building tree 211 of 300\n",
            "building tree 212 of 300\n",
            "building tree 213 of 300\n",
            "building tree 214 of 300\n",
            "building tree 215 of 300\n",
            "building tree 216 of 300\n",
            "building tree 217 of 300\n",
            "building tree 218 of 300\n",
            "building tree 219 of 300\n",
            "building tree 220 of 300\n",
            "building tree 221 of 300\n",
            "building tree 222 of 300\n",
            "building tree 223 of 300\n",
            "building tree 224 of 300\n",
            "building tree 225 of 300\n",
            "building tree 226 of 300\n",
            "building tree 227 of 300\n",
            "building tree 228 of 300\n",
            "building tree 229 of 300\n",
            "building tree 230 of 300\n",
            "building tree 231 of 300\n",
            "building tree 232 of 300\n",
            "building tree 233 of 300\n",
            "building tree 234 of 300\n",
            "building tree 235 of 300\n",
            "building tree 236 of 300\n",
            "building tree 237 of 300\n",
            "building tree 238 of 300\n",
            "building tree 239 of 300\n",
            "building tree 240 of 300\n",
            "building tree 241 of 300\n",
            "building tree 242 of 300\n",
            "building tree 243 of 300\n",
            "building tree 244 of 300\n",
            "building tree 245 of 300\n",
            "building tree 246 of 300\n",
            "building tree 247 of 300\n",
            "building tree 248 of 300\n",
            "building tree 249 of 300\n",
            "building tree 250 of 300\n",
            "building tree 251 of 300\n",
            "building tree 252 of 300\n",
            "building tree 253 of 300\n",
            "building tree 254 of 300\n",
            "building tree 255 of 300\n",
            "building tree 256 of 300\n",
            "building tree 257 of 300\n",
            "building tree 258 of 300\n",
            "building tree 259 of 300\n",
            "building tree 260 of 300\n",
            "building tree 261 of 300\n",
            "building tree 262 of 300\n",
            "building tree 263 of 300\n",
            "building tree 264 of 300\n",
            "building tree 265 of 300\n",
            "building tree 266 of 300\n",
            "building tree 267 of 300\n",
            "building tree 268 of 300\n",
            "building tree 269 of 300\n",
            "building tree 270 of 300\n",
            "building tree 271 of 300\n",
            "building tree 272 of 300\n",
            "building tree 273 of 300\n",
            "building tree 274 of 300\n",
            "building tree 275 of 300\n",
            "building tree 276 of 300\n",
            "building tree 277 of 300\n",
            "building tree 278 of 300\n",
            "building tree 279 of 300\n",
            "building tree 280 of 300\n",
            "building tree 281 of 300\n",
            "building tree 282 of 300\n",
            "building tree 283 of 300\n",
            "building tree 284 of 300\n",
            "building tree 285 of 300\n",
            "building tree 286 of 300\n",
            "building tree 287 of 300\n",
            "building tree 288 of 300\n",
            "building tree 289 of 300\n",
            "building tree 290 of 300\n",
            "building tree 291 of 300\n",
            "building tree 292 of 300\n",
            "building tree 293 of 300\n",
            "building tree 294 of 300\n",
            "building tree 295 of 300\n",
            "building tree 296 of 300\n",
            "building tree 297 of 300\n",
            "building tree 298 of 300\n",
            "building tree 299 of 300\n",
            "building tree 300 of 300\n"
          ]
        },
        {
          "output_type": "stream",
          "name": "stderr",
          "text": [
            "[Parallel(n_jobs=1)]: Done 300 out of 300 | elapsed:  4.9min finished\n",
            "[Parallel(n_jobs=1)]: Using backend SequentialBackend with 1 concurrent workers.\n",
            "[Parallel(n_jobs=1)]: Done   1 out of   1 | elapsed:    0.0s remaining:    0.0s\n",
            "[Parallel(n_jobs=1)]: Done   2 out of   2 | elapsed:    0.0s remaining:    0.0s\n",
            "[Parallel(n_jobs=1)]: Done   3 out of   3 | elapsed:    0.0s remaining:    0.0s\n",
            "[Parallel(n_jobs=1)]: Done   4 out of   4 | elapsed:    0.0s remaining:    0.0s\n",
            "[Parallel(n_jobs=1)]: Done   5 out of   5 | elapsed:    0.0s remaining:    0.0s\n",
            "[Parallel(n_jobs=1)]: Done   6 out of   6 | elapsed:    0.1s remaining:    0.0s\n",
            "[Parallel(n_jobs=1)]: Done   7 out of   7 | elapsed:    0.1s remaining:    0.0s\n",
            "[Parallel(n_jobs=1)]: Done   8 out of   8 | elapsed:    0.1s remaining:    0.0s\n",
            "[Parallel(n_jobs=1)]: Done   9 out of   9 | elapsed:    0.1s remaining:    0.0s\n",
            "[Parallel(n_jobs=1)]: Done  10 out of  10 | elapsed:    0.1s remaining:    0.0s\n",
            "[Parallel(n_jobs=1)]: Done  11 out of  11 | elapsed:    0.1s remaining:    0.0s\n",
            "[Parallel(n_jobs=1)]: Done  12 out of  12 | elapsed:    0.1s remaining:    0.0s\n",
            "[Parallel(n_jobs=1)]: Done  13 out of  13 | elapsed:    0.1s remaining:    0.0s\n",
            "[Parallel(n_jobs=1)]: Done  14 out of  14 | elapsed:    0.1s remaining:    0.0s\n",
            "[Parallel(n_jobs=1)]: Done  15 out of  15 | elapsed:    0.1s remaining:    0.0s\n",
            "[Parallel(n_jobs=1)]: Done  16 out of  16 | elapsed:    0.1s remaining:    0.0s\n",
            "[Parallel(n_jobs=1)]: Done  17 out of  17 | elapsed:    0.2s remaining:    0.0s\n",
            "[Parallel(n_jobs=1)]: Done  18 out of  18 | elapsed:    0.2s remaining:    0.0s\n",
            "[Parallel(n_jobs=1)]: Done  19 out of  19 | elapsed:    0.2s remaining:    0.0s\n",
            "[Parallel(n_jobs=1)]: Done  20 out of  20 | elapsed:    0.2s remaining:    0.0s\n",
            "[Parallel(n_jobs=1)]: Done  21 out of  21 | elapsed:    0.2s remaining:    0.0s\n",
            "[Parallel(n_jobs=1)]: Done  22 out of  22 | elapsed:    0.2s remaining:    0.0s\n",
            "[Parallel(n_jobs=1)]: Done  23 out of  23 | elapsed:    0.2s remaining:    0.0s\n",
            "[Parallel(n_jobs=1)]: Done  24 out of  24 | elapsed:    0.2s remaining:    0.0s\n",
            "[Parallel(n_jobs=1)]: Done  25 out of  25 | elapsed:    0.2s remaining:    0.0s\n",
            "[Parallel(n_jobs=1)]: Done  26 out of  26 | elapsed:    0.2s remaining:    0.0s\n",
            "[Parallel(n_jobs=1)]: Done  27 out of  27 | elapsed:    0.2s remaining:    0.0s\n",
            "[Parallel(n_jobs=1)]: Done  28 out of  28 | elapsed:    0.2s remaining:    0.0s\n",
            "[Parallel(n_jobs=1)]: Done  29 out of  29 | elapsed:    0.3s remaining:    0.0s\n",
            "[Parallel(n_jobs=1)]: Done  30 out of  30 | elapsed:    0.3s remaining:    0.0s\n",
            "[Parallel(n_jobs=1)]: Done  31 out of  31 | elapsed:    0.3s remaining:    0.0s\n",
            "[Parallel(n_jobs=1)]: Done  32 out of  32 | elapsed:    0.3s remaining:    0.0s\n",
            "[Parallel(n_jobs=1)]: Done  33 out of  33 | elapsed:    0.3s remaining:    0.0s\n",
            "[Parallel(n_jobs=1)]: Done  34 out of  34 | elapsed:    0.3s remaining:    0.0s\n",
            "[Parallel(n_jobs=1)]: Done  35 out of  35 | elapsed:    0.3s remaining:    0.0s\n",
            "[Parallel(n_jobs=1)]: Done  36 out of  36 | elapsed:    0.3s remaining:    0.0s\n",
            "[Parallel(n_jobs=1)]: Done  37 out of  37 | elapsed:    0.3s remaining:    0.0s\n",
            "[Parallel(n_jobs=1)]: Done  38 out of  38 | elapsed:    0.3s remaining:    0.0s\n",
            "[Parallel(n_jobs=1)]: Done  39 out of  39 | elapsed:    0.3s remaining:    0.0s\n",
            "[Parallel(n_jobs=1)]: Done 300 out of 300 | elapsed:    2.5s finished\n"
          ]
        }
      ]
    },
    {
      "cell_type": "code",
      "metadata": {
        "colab": {
          "base_uri": "https://localhost:8080/"
        },
        "id": "BT_AKGl1R-oa",
        "outputId": "16d9a78a-ba41-4300-c3d5-0b2a9de4dd0f"
      },
      "source": [
        "from sklearn.metrics import classification_report, confusion_matrix, accuracy_score, f1_score\n",
        "\n",
        "print(confusion_matrix(y_test,y_pred))\n",
        "print(classification_report(y_test,y_pred))\n",
        "print('The Accuracy Score is:',accuracy_score(y_test, y_pred))\n",
        "print('The Weighted F1 Score is:',f1_score(y_test, y_pred, average='weighted'))"
      ],
      "execution_count": null,
      "outputs": [
        {
          "output_type": "stream",
          "name": "stdout",
          "text": [
            "[[  46  269   46]\n",
            " [  58 4594  142]\n",
            " [  10  224  807]]\n",
            "              precision    recall  f1-score   support\n",
            "\n",
            "           0       0.40      0.13      0.19       361\n",
            "           1       0.90      0.96      0.93      4794\n",
            "           2       0.81      0.78      0.79      1041\n",
            "\n",
            "    accuracy                           0.88      6196\n",
            "   macro avg       0.71      0.62      0.64      6196\n",
            "weighted avg       0.86      0.88      0.86      6196\n",
            "\n",
            "The Accuracy Score is: 0.8791155584247902\n",
            "The Weighted F1 Score is: 0.8639327838263776\n"
          ]
        }
      ]
    },
    {
      "cell_type": "code",
      "metadata": {
        "id": "LxyFwBNFduzY"
      },
      "source": [
        "import tensorflow as tf\n",
        "from sklearn import linear_model, datasets, metrics"
      ],
      "execution_count": null,
      "outputs": []
    },
    {
      "cell_type": "code",
      "metadata": {
        "id": "nXoBaZa1cMZa"
      },
      "source": [
        "conf_matrix=tf.math.confusion_matrix(y_test,y_pred,num_classes=3).numpy()\n",
        "con_mat_norm = np.around(conf_matrix.astype('float') / conf_matrix.sum(axis=1)[:, np.newaxis], decimals=2)\n",
        "print(con_mat_norm)\n",
        "plt.matshow(con_mat_norm,cmap=plt.cm.hot)\n",
        "plt.show()"
      ],
      "execution_count": null,
      "outputs": []
    },
    {
      "cell_type": "code",
      "metadata": {
        "id": "IWv59gUvXJyt"
      },
      "source": [
        "from sklearn.metrics import confusion_matrix, classification_report\n",
        "from matplotlib import pyplot as plt\n",
        "import seaborn as sns\n",
        "\n",
        "def plot_confusion_matrix(y_test,y_scores, classNames):\n",
        "    # y_test=np.argmax(y_test, axis=1)\n",
        "    # y_scores=np.argmax(y_scores, axis=1)\n",
        "    classes = len(classNames)\n",
        "    cm = confusion_matrix(y_test, y_scores)\n",
        "    print(\"**** Confusion Matrix ****\")\n",
        "    print(cm)\n",
        "    print(\"**** Classification Report ****\")\n",
        "    print(classification_report(y_test, y_scores, target_names=classNames))\n",
        "    con = np.zeros((classes,classes))\n",
        "    for x in range(classes):\n",
        "        for y in range(classes):\n",
        "            con[x,y] = cm[x,y]/np.sum(cm[x,:])\n",
        "\n",
        "    plt.figure(figsize=(5,5))\n",
        "    sns.set(font_scale=1.0) # for label size\n",
        "    df = sns.heatmap(con, annot=True,fmt='.2', xticklabels= classNames , yticklabels= classNames)\n",
        "    df.figure.savefig(\"image2.png\")\n",
        "\n",
        "classNames = ['0', '1', '2'] \n",
        "plot_confusion_matrix(y_test,y_pred, classNames) "
      ],
      "execution_count": null,
      "outputs": []
    },
    {
      "cell_type": "code",
      "metadata": {
        "id": "_CcTP0LRXJv4"
      },
      "source": [
        ""
      ],
      "execution_count": null,
      "outputs": []
    },
    {
      "cell_type": "markdown",
      "metadata": {
        "id": "6NsoNAXrBu_R"
      },
      "source": [
        "### Naive Bayes"
      ]
    },
    {
      "cell_type": "code",
      "metadata": {
        "id": "cKptC2f6R-mF"
      },
      "source": [
        "### Naive Bayes\n",
        "alpha = np.linspace(1, 100, 100)\n",
        "nb_grid = GridSearchCV(estimator= MultinomialNB(),\n",
        "                       param_grid=dict(\n",
        "                           alpha = alpha),\n",
        "                  scoring=\"f1_weighted\",\n",
        "                  cv = 5)\n",
        "nb_grid.fit(X_train_smote, y_train_smote)\n",
        "\n",
        "nb_grid_best_hyperparameter = nb_grid.best_estimator_.alpha\n",
        "\n",
        "nb_best_hyper = MultinomialNB(alpha = nb_grid_best_hyperparameter)\n",
        "nb_best_hyper.fit(X_train, y_train)\n",
        "\n",
        "np_y_preds = nb_best_hyper.predict(X_test)"
      ],
      "execution_count": null,
      "outputs": []
    },
    {
      "cell_type": "code",
      "metadata": {
        "colab": {
          "base_uri": "https://localhost:8080/"
        },
        "id": "NYUUHa0_R-jx",
        "outputId": "6097a57d-147e-4c76-877b-e69a103a2382"
      },
      "source": [
        "print('The best score is:',nb_grid.best_score_,'\\n')\n",
        "print('The best hyperparameter found is:',nb_grid_best_hyperparameter,'\\n')\n",
        "print('The classification report is: \\n',classification_report(y_test, np_y_preds))\n",
        "print('The Weighted F1 Score is:',f1_score(y_test, np_y_preds, average='weighted'))"
      ],
      "execution_count": null,
      "outputs": [
        {
          "output_type": "stream",
          "name": "stdout",
          "text": [
            "The best score is: 0.8318534017338696 \n",
            "\n",
            "The best hyperparameter found is: 11.0 \n",
            "\n",
            "The classification report is: \n",
            "               precision    recall  f1-score   support\n",
            "\n",
            "           0       0.34      0.35      0.34       361\n",
            "           1       0.93      0.89      0.91      4794\n",
            "           2       0.71      0.86      0.78      1041\n",
            "\n",
            "    accuracy                           0.85      6196\n",
            "   macro avg       0.66      0.70      0.68      6196\n",
            "weighted avg       0.86      0.85      0.85      6196\n",
            "\n",
            "The Weighted F1 Score is: 0.854715940976575\n"
          ]
        }
      ]
    },
    {
      "cell_type": "markdown",
      "metadata": {
        "id": "7ijv5ALEBzjC"
      },
      "source": [
        "### Support Vector Machine"
      ]
    },
    {
      "cell_type": "code",
      "metadata": {
        "colab": {
          "background_save": true
        },
        "id": "b96ymQQyjPmN",
        "outputId": "2cacec28-14ee-4900-f7f9-e866d786e836"
      },
      "source": [
        "svm = SVC()\n",
        "svm.fit(X_train,y_train)\n",
        "y_pred = svm.predict(X_test)\n",
        "print(confusion_matrix(y_test,y_pred))\n",
        "print(classification_report(y_test,y_pred))\n",
        "print(accuracy_score(y_test, y_pred))"
      ],
      "execution_count": null,
      "outputs": [
        {
          "name": "stdout",
          "output_type": "stream",
          "text": [
            "[[  41  137  183]\n",
            " [ 132 3346 1316]\n",
            " [  25  171  845]]\n",
            "              precision    recall  f1-score   support\n",
            "\n",
            "           0       0.21      0.11      0.15       361\n",
            "           1       0.92      0.70      0.79      4794\n",
            "           2       0.36      0.81      0.50      1041\n",
            "\n",
            "    accuracy                           0.68      6196\n",
            "   macro avg       0.49      0.54      0.48      6196\n",
            "weighted avg       0.78      0.68      0.71      6196\n",
            "\n",
            "0.6830213040671401\n"
          ]
        }
      ]
    },
    {
      "cell_type": "code",
      "metadata": {
        "id": "YfNYhgs-2ClR"
      },
      "source": [
        "param_grid = { 'C':[0.1,1,100],\n",
        "              'kernel':['rbf','poly','sigmoid','linear'],\n",
        "              'degree':[1,2,3],\n",
        "              'gamma': [1, 0.1, 0.01, 0.001]}"
      ],
      "execution_count": null,
      "outputs": []
    },
    {
      "cell_type": "code",
      "metadata": {
        "colab": {
          "base_uri": "https://localhost:8080/"
        },
        "id": "5-0RRUA_2Cjf",
        "outputId": "4084540d-6374-40ff-f02b-029d22129b7c"
      },
      "source": [
        "grid = GridSearchCV(SVC(),\n",
        "                    param_grid,\n",
        "                    refit=True,\n",
        "                    cv = 5,\n",
        "                    verbose=40,\n",
        "                    n_jobs=-1)\n",
        "\n",
        "grid.fit(X_train_smote, y_train_smote)"
      ],
      "execution_count": null,
      "outputs": [
        {
          "output_type": "stream",
          "name": "stdout",
          "text": [
            "Fitting 5 folds for each of 144 candidates, totalling 720 fits\n"
          ]
        },
        {
          "output_type": "stream",
          "name": "stderr",
          "text": [
            "[Parallel(n_jobs=-1)]: Using backend LokyBackend with 2 concurrent workers.\n"
          ]
        }
      ]
    },
    {
      "cell_type": "code",
      "metadata": {
        "id": "WcraOW2v2Chi"
      },
      "source": [
        "print(grid.best_estimator_)"
      ],
      "execution_count": null,
      "outputs": []
    },
    {
      "cell_type": "code",
      "metadata": {
        "id": "CGwwWiuR2Cfs"
      },
      "source": [
        "grid_predictions = grid.predict(X_test)\n",
        "print(confusion_matrix(y_test,grid_predictions))\n",
        "print(classification_report(y_test,grid_predictions))  #Output"
      ],
      "execution_count": null,
      "outputs": []
    },
    {
      "cell_type": "markdown",
      "metadata": {
        "id": "VVt-wtANpKmQ"
      },
      "source": [
        "### XGBoost"
      ]
    },
    {
      "cell_type": "markdown",
      "metadata": {
        "id": "-zBH4CvuJOoF"
      },
      "source": [
        "eXtreme Gradient Boosting - XGBoost è un’implementazione open source popolare ed efficiente dell’algoritmo Gradient Boosting.\n",
        "\n",
        "Si prefigge di minimizzare una funzione obiettivo regolarizzata (L1 e L2) che combina una funzione di perdita (basata sulla differenza tra i valori osservati e previsti) e un termine di penalità per la complessità del modello (in altre parole, la funzione dell’albero di regressione, il pruning).\n",
        "\n",
        "L’addestramento procede in modo iterativo, aggiungendo nuovi alberi che predicono i residui, i quali vengono poi combinati con gli alberi precedenti di un fattore eta per eseguire la previsione finale.\n",
        "\n",
        "https://www.lorenzogovoni.com/cose-lalgoritmo-xgboost/"
      ]
    },
    {
      "cell_type": "code",
      "metadata": {
        "id": "maojo19NKZF6"
      },
      "source": [
        "#tuning parameters - max_depth, min_child_weight, gamma, subsample, colsample_bytree, reg_alpha"
      ],
      "execution_count": null,
      "outputs": []
    },
    {
      "cell_type": "markdown",
      "metadata": {
        "id": "zPNiT3RTOktn"
      },
      "source": [
        "###General Approach for Parameter Tuning\n",
        "We will use an approach similar to that of GBM here. The various steps to be performed are:\n",
        "\n",
        "- **Choose a relatively high learning rate.**  Generally a learning rate of 0.1 works but somewhere between 0.05 to 0.3 should work for different problems. Determine the optimum number of trees for this learning rate. XGBoost has a very useful function called as “cv” which performs cross-validation at each boosting iteration and thus returns the optimum number of trees required.\n",
        "- **Tune tree-specific parameters** ( max_depth, min_child_weight, gamma, subsample, colsample_bytree) for decided learning rate and number of trees. Note that we can choose different parameters to define a tree and I’ll take up an example here.\n",
        "- **Tune regularization parameters** (lambda, alpha) for xgboost which can help reduce model complexity and enhance performance.\n",
        "- **Lower the learning rate** and decide the optimal parameters .\n",
        "\n",
        "Reference (https://www.analyticsvidhya.com/blog/2016/03/complete-guide-parameter-tuning-xgboost-with-codes-python/)"
      ]
    },
    {
      "cell_type": "code",
      "metadata": {
        "id": "aUNl5nzbWVXu"
      },
      "source": [
        "import xgboost as xgb"
      ],
      "execution_count": null,
      "outputs": []
    },
    {
      "cell_type": "code",
      "metadata": {
        "id": "bt80UFrqQtB8"
      },
      "source": [
        "def modelfit(alg, X_train, y_train, useTrainCV=True, cv_folds=5, early_stopping_rounds=50):\n",
        "    \n",
        "    if useTrainCV:\n",
        "        xgb_param = alg.get_xgb_params()\n",
        "        xgtrain = xgb.DMatrix(X_train, label=y_train)\n",
        "        cvresult = xgb.cv(xgb_param, xgtrain, num_boost_round=alg.get_params()['n_estimators'], nfold=cv_folds,\n",
        "            metrics='auc', early_stopping_rounds=early_stopping_rounds)#, show_progress=False)\n",
        "        alg.set_params(n_estimators=cvresult.shape[0])\n",
        "    \n",
        "    #Fit the algorithm on the data\n",
        "    alg.fit(X_train, y_train, eval_metric='auc')\n",
        "        \n",
        "    #Predict training set:\n",
        "    y_predictions = alg.predict(X_test)\n",
        "    y_predprob = alg.predict_proba(X_test)[:,1]\n",
        "        \n",
        "    #Print model report:\n",
        "    print(\"\\nModel Report\")\n",
        "    print(\"Accuracy : %.4g\" % metrics.accuracy_score(y_test.values, y_predictions))\n",
        "    print(\"F1 Score : %.4g\" % metrics.f1_score(y_test.values, y_predictions, average= 'macro'))\n",
        "    print(\"AUC Score (Train): %f\" % metrics.roc_auc_score(y_test, y_predprob))\n",
        "                    \n",
        "    feat_imp = pd.Series(alg.booster().get_fscore()).sort_values(ascending=False)\n",
        "    feat_imp.plot(kind='bar', title='Feature Importances')\n",
        "    plt.ylabel('Feature Importance Score')"
      ],
      "execution_count": null,
      "outputs": []
    },
    {
      "cell_type": "code",
      "metadata": {
        "id": "QYvWI7PHO7uV"
      },
      "source": [
        "xgb1 = XGBClassifier(\n",
        " learning_rate =0.1,\n",
        " n_estimators=100,\n",
        " max_depth=5,\n",
        " min_child_weight=1,\n",
        " gamma=0,\n",
        " subsample=0.8,\n",
        " colsample_bytree=0.8,\n",
        " objective= 'multi:softmax',\n",
        " num_class = 3,\n",
        " nthread=4,\n",
        " scale_pos_weight=1,\n",
        " seed=27)\n",
        "\n",
        "modelfit(xgb1, X_train, y_train)"
      ],
      "execution_count": null,
      "outputs": []
    },
    {
      "cell_type": "code",
      "metadata": {
        "id": "J1gp8DFWOqdV"
      },
      "source": [
        "#1 - Tune max_depth and min_child_weight\n",
        "param_test1 = {\n",
        " 'max_depth':[4,5,6],\n",
        " 'min_child_weight':[4,5,6]\n",
        "}\n",
        "gsearch1 = GridSearchCV(estimator = XGBClassifier(learning_rate =0.1, n_estimators=140, max_depth=5,\n",
        " min_child_weight=1, gamma=0, subsample=0.8, colsample_bytree=0.8,\n",
        " objective= 'multi:softmax', nthread=4, scale_pos_weight=1, seed=27), \n",
        " param_grid = param_test1, scoring='roc_auc',n_jobs=4,iid=False, cv=5)\n",
        "gsearch1.fit(X_train, y_train)\n",
        "gsearch1.grid_scores_, gsearch1.best_params_, gsearch1.best_score_"
      ],
      "execution_count": null,
      "outputs": []
    },
    {
      "cell_type": "code",
      "metadata": {
        "id": "niW6lZtrXobf"
      },
      "source": [
        "# model fit 1 con i best parameters presi dal tuning sopra\n",
        "modelfit(gsearch1.best_estimator_, X_train, y_train)\n",
        "gsearch1.grid_scores_, gsearch1.best_params_, gsearch1.best_score_"
      ],
      "execution_count": null,
      "outputs": []
    },
    {
      "cell_type": "code",
      "metadata": {
        "id": "G6aOtUXWJnCD"
      },
      "source": [
        "#2 - Tune gamma \n",
        "param_test3 = {\n",
        " 'gamma':[i/10.0 for i in range(0,5)]\n",
        "}\n",
        "gsearch3 = GridSearchCV(estimator = XGBClassifier( learning_rate =0.1, n_estimators=140, max_depth=4,\n",
        " min_child_weight=6, gamma=0, subsample=0.8, colsample_bytree=0.8,\n",
        " objective= 'multi:softmax', nthread=4, scale_pos_weight=1,seed=27), \n",
        " param_grid = param_test3, scoring='roc_auc',n_jobs=4,iid=False, cv=5)\n",
        "gsearch3.fit(X_train, y_train)\n",
        "gsearch3.grid_scores_, gsearch3.best_params_, gsearch3.best_score_"
      ],
      "execution_count": null,
      "outputs": []
    },
    {
      "cell_type": "code",
      "metadata": {
        "id": "8j9rYH-TX5sp"
      },
      "source": [
        "#3 - Tuning Regularization Parameters\n",
        "param_test6 = {\n",
        " 'reg_alpha':[0, 0.001, 0.005, 0.01, 0.05]\n",
        "}\n",
        "gsearch6 = GridSearchCV(estimator = XGBClassifier( learning_rate =0.1, n_estimators=177, max_depth=4,\n",
        " min_child_weight=6, gamma=0.1, subsample=0.8, colsample_bytree=0.8,\n",
        " objective= 'multi:softmax', nthread=4, scale_pos_weight=1,seed=27), \n",
        " param_grid = param_test6, scoring='roc_auc',n_jobs=4,iid=False, cv=5)\n",
        "gsearch6.fit(X_train, y_train)\n",
        "gsearch6.grid_scores_, gsearch6.best_params_, gsearch6.best_score_\n"
      ],
      "execution_count": null,
      "outputs": []
    },
    {
      "cell_type": "code",
      "metadata": {
        "id": "gYkichp1Y2WL"
      },
      "source": [
        "#applicare i valori dei parametri, selezionati dal tuning, e valutare l'algoritmo ()\n",
        "xgb3 = XGBClassifier(\n",
        " learning_rate =0.1,\n",
        " n_estimators=1000,\n",
        " max_depth=4,         #da cambiare\n",
        " min_child_weight=6,  #da cambiare\n",
        " gamma=0,\n",
        " subsample=0.8,\n",
        " colsample_bytree=0.8,\n",
        " reg_alpha=0.005,     #da cambiare\n",
        " objective= 'binary:logistic',\n",
        " num_class=3,\n",
        " nthread=4,\n",
        " scale_pos_weight=1,\n",
        " seed=27)\n",
        "modelfit(xgb3, X_train, y_train)"
      ],
      "execution_count": null,
      "outputs": []
    },
    {
      "cell_type": "code",
      "metadata": {
        "id": "m1VrGBq9Y2rI"
      },
      "source": [
        ""
      ],
      "execution_count": null,
      "outputs": []
    },
    {
      "cell_type": "code",
      "metadata": {
        "id": "sTzx9IY8Y2vm"
      },
      "source": [
        ""
      ],
      "execution_count": null,
      "outputs": []
    },
    {
      "cell_type": "code",
      "metadata": {
        "id": "Fw9ayRmEY20P"
      },
      "source": [
        ""
      ],
      "execution_count": null,
      "outputs": []
    },
    {
      "cell_type": "code",
      "metadata": {
        "id": "9S3BHnbYY25K"
      },
      "source": [
        ""
      ],
      "execution_count": null,
      "outputs": []
    },
    {
      "cell_type": "code",
      "metadata": {
        "id": "rGPjzhdgpKEc"
      },
      "source": [
        "# da capire che è e come fare il tuning - eXtreme Gradient Boosting \n",
        "xgbr = XGBClassifier()\n",
        "xgbr.fit(X_train, y_train)\n",
        " \n",
        "y_pred = xgbr.predict(X_test)\n",
        "print(confusion_matrix(y_test,y_pred))\n",
        "print(classification_report(y_test,y_pred))\n",
        "print(accuracy_score(y_test, y_pred))"
      ],
      "execution_count": null,
      "outputs": []
    },
    {
      "cell_type": "markdown",
      "metadata": {
        "id": "B8wq7iEVARWu"
      },
      "source": [
        "## Sparse Tensor Classifier"
      ]
    },
    {
      "cell_type": "code",
      "metadata": {
        "colab": {
          "base_uri": "https://localhost:8080/"
        },
        "id": "urx0CZMk_bpy",
        "outputId": "7679c89e-bc47-4786-b347-e0a3e62b4826"
      },
      "source": [
        "!pip install stc"
      ],
      "execution_count": null,
      "outputs": [
        {
          "output_type": "stream",
          "name": "stdout",
          "text": [
            "Collecting stc\n",
            "  Downloading stc-0.3.1-py3-none-any.whl (33 kB)\n",
            "Requirement already satisfied: sqlalchemy in /usr/local/lib/python3.7/dist-packages (from stc) (1.4.27)\n",
            "Requirement already satisfied: numpy in /usr/local/lib/python3.7/dist-packages (from stc) (1.19.5)\n",
            "Requirement already satisfied: pandas in /usr/local/lib/python3.7/dist-packages (from stc) (1.1.5)\n",
            "Requirement already satisfied: python-dateutil>=2.7.3 in /usr/local/lib/python3.7/dist-packages (from pandas->stc) (2.8.2)\n",
            "Requirement already satisfied: pytz>=2017.2 in /usr/local/lib/python3.7/dist-packages (from pandas->stc) (2018.9)\n",
            "Requirement already satisfied: six>=1.5 in /usr/local/lib/python3.7/dist-packages (from python-dateutil>=2.7.3->pandas->stc) (1.15.0)\n",
            "Requirement already satisfied: importlib-metadata in /usr/local/lib/python3.7/dist-packages (from sqlalchemy->stc) (4.8.2)\n",
            "Requirement already satisfied: greenlet!=0.4.17 in /usr/local/lib/python3.7/dist-packages (from sqlalchemy->stc) (1.1.2)\n",
            "Requirement already satisfied: typing-extensions>=3.6.4 in /usr/local/lib/python3.7/dist-packages (from importlib-metadata->sqlalchemy->stc) (3.10.0.2)\n",
            "Requirement already satisfied: zipp>=0.5 in /usr/local/lib/python3.7/dist-packages (from importlib-metadata->sqlalchemy->stc) (3.6.0)\n",
            "Installing collected packages: stc\n",
            "Successfully installed stc-0.3.1\n"
          ]
        }
      ]
    },
    {
      "cell_type": "code",
      "metadata": {
        "id": "xNw_JdcqR-cs"
      },
      "source": [
        "from stc import SparseTensorClassifier"
      ],
      "execution_count": null,
      "outputs": []
    },
    {
      "cell_type": "code",
      "metadata": {
        "id": "HSI0Psv2R-Z-"
      },
      "source": [
        "models = {\n",
        "    'Multinomial NV': MultinomialNB(),\n",
        "    'Random Forest': RandomForestClassifier(),\n",
        "    'XGBoost' : XGBClassifier()\n",
        "}"
      ],
      "execution_count": 26,
      "outputs": []
    },
    {
      "cell_type": "code",
      "metadata": {
        "colab": {
          "base_uri": "https://localhost:8080/",
          "height": 423
        },
        "id": "aH3OV6es3ToA",
        "outputId": "88c380fa-2318-40b2-bfdf-84579d387688"
      },
      "source": [
        "labeled_data"
      ],
      "execution_count": 27,
      "outputs": [
        {
          "output_type": "execute_result",
          "data": {
            "text/html": [
              "<div>\n",
              "<style scoped>\n",
              "    .dataframe tbody tr th:only-of-type {\n",
              "        vertical-align: middle;\n",
              "    }\n",
              "\n",
              "    .dataframe tbody tr th {\n",
              "        vertical-align: top;\n",
              "    }\n",
              "\n",
              "    .dataframe thead th {\n",
              "        text-align: right;\n",
              "    }\n",
              "</style>\n",
              "<table border=\"1\" class=\"dataframe\">\n",
              "  <thead>\n",
              "    <tr style=\"text-align: right;\">\n",
              "      <th></th>\n",
              "      <th>class</th>\n",
              "      <th>clean_sents</th>\n",
              "    </tr>\n",
              "  </thead>\n",
              "  <tbody>\n",
              "    <tr>\n",
              "      <th>0</th>\n",
              "      <td>2</td>\n",
              "      <td>mayasolov as a woman you should complain about clean up your hous amp as a man you should alway take the trash out</td>\n",
              "    </tr>\n",
              "    <tr>\n",
              "      <th>1</th>\n",
              "      <td>1</td>\n",
              "      <td>boy dat cold tyga dwn bad for cuffin dat hoe in the place</td>\n",
              "    </tr>\n",
              "    <tr>\n",
              "      <th>2</th>\n",
              "      <td>1</td>\n",
              "      <td>urkindofbrand dawg you ever fuck a bitch and she start to cri you be confus as shit</td>\n",
              "    </tr>\n",
              "    <tr>\n",
              "      <th>3</th>\n",
              "      <td>1</td>\n",
              "      <td>she look like a tranni</td>\n",
              "    </tr>\n",
              "    <tr>\n",
              "      <th>4</th>\n",
              "      <td>1</td>\n",
              "      <td>shenikarobert the shit you hear about me might be true or it might be faker than the bitch who told it to ya</td>\n",
              "    </tr>\n",
              "    <tr>\n",
              "      <th>...</th>\n",
              "      <td>...</td>\n",
              "      <td>...</td>\n",
              "    </tr>\n",
              "    <tr>\n",
              "      <th>24778</th>\n",
              "      <td>1</td>\n",
              "      <td>you a lie lifeask right hi tl is trash now mine bibl scriptur and hymn</td>\n",
              "    </tr>\n",
              "    <tr>\n",
              "      <th>24779</th>\n",
              "      <td>2</td>\n",
              "      <td>you gone and broke the wrong heart babi and drove me redneck crazi</td>\n",
              "    </tr>\n",
              "    <tr>\n",
              "      <th>24780</th>\n",
              "      <td>1</td>\n",
              "      <td>young buck wan na eat dat nigguh like i aint fuckin di up again</td>\n",
              "    </tr>\n",
              "    <tr>\n",
              "      <th>24781</th>\n",
              "      <td>1</td>\n",
              "      <td>youu got wild bitch tellin you lie</td>\n",
              "    </tr>\n",
              "    <tr>\n",
              "      <th>24782</th>\n",
              "      <td>2</td>\n",
              "      <td>ntac eileen dahlia beauti color combin of pink orang yellow amp white a coll http</td>\n",
              "    </tr>\n",
              "  </tbody>\n",
              "</table>\n",
              "<p>24783 rows × 2 columns</p>\n",
              "</div>"
            ],
            "text/plain": [
              "       class                                                                                                         clean_sents\n",
              "0          2  mayasolov as a woman you should complain about clean up your hous amp as a man you should alway take the trash out\n",
              "1          1                                                           boy dat cold tyga dwn bad for cuffin dat hoe in the place\n",
              "2          1                                 urkindofbrand dawg you ever fuck a bitch and she start to cri you be confus as shit\n",
              "3          1                                                                                              she look like a tranni\n",
              "4          1        shenikarobert the shit you hear about me might be true or it might be faker than the bitch who told it to ya\n",
              "...      ...                                                                                                                 ...\n",
              "24778      1                                              you a lie lifeask right hi tl is trash now mine bibl scriptur and hymn\n",
              "24779      2                                                  you gone and broke the wrong heart babi and drove me redneck crazi\n",
              "24780      1                                                     young buck wan na eat dat nigguh like i aint fuckin di up again\n",
              "24781      1                                                                                  youu got wild bitch tellin you lie\n",
              "24782      2                                   ntac eileen dahlia beauti color combin of pink orang yellow amp white a coll http\n",
              "\n",
              "[24783 rows x 2 columns]"
            ]
          },
          "metadata": {},
          "execution_count": 27
        }
      ]
    },
    {
      "cell_type": "code",
      "metadata": {
        "colab": {
          "base_uri": "https://localhost:8080/"
        },
        "id": "q54ruHU52E5j",
        "outputId": "ebfc5394-4c8a-450e-c114-8e3e23eae34e"
      },
      "source": [
        "from sklearn.model_selection import train_test_split\n",
        "train, test = train_test_split(labeled_data, test_size=0.25, random_state = 42)\n",
        "train = train.reset_index(drop=True)\n",
        "test = test.reset_index(drop=True)\n",
        "print(train.shape)\n",
        "print(test.shape)"
      ],
      "execution_count": 28,
      "outputs": [
        {
          "output_type": "stream",
          "name": "stdout",
          "text": [
            "(18587, 2)\n",
            "(6196, 2)\n"
          ]
        }
      ]
    },
    {
      "cell_type": "code",
      "metadata": {
        "id": "d0efsPDW0gP2"
      },
      "source": [
        "import nltk\n",
        "from sklearn.feature_extraction.text import TfidfVectorizer\n",
        "vectorizer = TfidfVectorizer(tokenizer=nltk.word_tokenize)\n",
        "X_train = vectorizer.fit_transform(train.clean_sents)\n",
        "X_test = vectorizer.transform(test.clean_sents)\n",
        "y_train, y_test = train['class'], test['class']\n"
      ],
      "execution_count": 41,
      "outputs": []
    },
    {
      "cell_type": "code",
      "metadata": {
        "id": "SiiGvtEmTT5H"
      },
      "source": [
        "# transform the dataset\n",
        "strategy = {1:8638}\n",
        "undersample = RandomUnderSampler(sampling_strategy=strategy)\n",
        "X_train_smote, y_train_smote = undersample.fit_resample(X_train, y_train)"
      ],
      "execution_count": 43,
      "outputs": []
    },
    {
      "cell_type": "code",
      "metadata": {
        "colab": {
          "base_uri": "https://localhost:8080/"
        },
        "id": "15TINQHay92g",
        "outputId": "f9daf3d0-36d7-46db-e386-90296cae06d4"
      },
      "source": [
        "for model_name, model in models.items():\n",
        "    print(\"Training: {}\".format(model_name))\n",
        "    models[model_name].fit(X_train_smote, y_train_smote)"
      ],
      "execution_count": 45,
      "outputs": [
        {
          "output_type": "stream",
          "name": "stdout",
          "text": [
            "Training: Multinomial NV\n",
            "Training: Random Forest\n",
            "Training: XGBoost\n"
          ]
        }
      ]
    },
    {
      "cell_type": "code",
      "metadata": {
        "colab": {
          "base_uri": "https://localhost:8080/"
        },
        "id": "SUwqy45PzldW",
        "outputId": "d15c8cd9-d068-4f30-8d31-1b933a0a3858"
      },
      "source": [
        "predictions = {}\n",
        "for model_name, model in models.items():\n",
        "    print(\"Predicting: {}\".format(model_name))\n",
        "    predictions[model_name] = model.predict(X_test)"
      ],
      "execution_count": 46,
      "outputs": [
        {
          "output_type": "stream",
          "name": "stdout",
          "text": [
            "Predicting: Multinomial NV\n",
            "Predicting: Random Forest\n",
            "Predicting: XGBoost\n"
          ]
        }
      ]
    },
    {
      "cell_type": "code",
      "metadata": {
        "id": "E5smjHyUyC0K"
      },
      "source": [
        "json_train, json_test = [], []\n",
        "for i, doc in list(enumerate(train.clean_sents)):\n",
        "    json_train.append({'words': nltk.word_tokenize(doc), 'target': [train['class'][i]]})\n",
        "for i, doc in list(enumerate(test.clean_sents)):\n",
        "    json_test.append({'words': nltk.word_tokenize(doc)})"
      ],
      "execution_count": 47,
      "outputs": []
    },
    {
      "cell_type": "code",
      "metadata": {
        "colab": {
          "base_uri": "https://localhost:8080/"
        },
        "id": "kvPly28MyH8X",
        "outputId": "e2bb1419-bfeb-4446-82da-52b8ba9556ce"
      },
      "source": [
        "STC = SparseTensorClassifier(features=['words'], targets=['target'])\n",
        "STC.fit(json_train)"
      ],
      "execution_count": 48,
      "outputs": [
        {
          "output_type": "stream",
          "name": "stderr",
          "text": [
            "Exception during reset or similar\n",
            "Traceback (most recent call last):\n",
            "  File \"/usr/local/lib/python3.7/dist-packages/sqlalchemy/pool/base.py\", line 739, in _finalize_fairy\n",
            "    fairy._reset(pool)\n",
            "  File \"/usr/local/lib/python3.7/dist-packages/sqlalchemy/pool/base.py\", line 988, in _reset\n",
            "    pool._dialect.do_rollback(self)\n",
            "  File \"/usr/local/lib/python3.7/dist-packages/sqlalchemy/engine/default.py\", line 669, in do_rollback\n",
            "    dbapi_connection.rollback()\n",
            "sqlite3.ProgrammingError: SQLite objects created in a thread can only be used in that same thread. The object was created in thread id 140236766631808 and this is thread id 140236106172160.\n",
            "Exception closing connection <sqlite3.Connection object at 0x7f8b1c31a570>\n",
            "Traceback (most recent call last):\n",
            "  File \"/usr/local/lib/python3.7/dist-packages/sqlalchemy/pool/base.py\", line 739, in _finalize_fairy\n",
            "    fairy._reset(pool)\n",
            "  File \"/usr/local/lib/python3.7/dist-packages/sqlalchemy/pool/base.py\", line 988, in _reset\n",
            "    pool._dialect.do_rollback(self)\n",
            "  File \"/usr/local/lib/python3.7/dist-packages/sqlalchemy/engine/default.py\", line 669, in do_rollback\n",
            "    dbapi_connection.rollback()\n",
            "sqlite3.ProgrammingError: SQLite objects created in a thread can only be used in that same thread. The object was created in thread id 140236766631808 and this is thread id 140236106172160.\n",
            "\n",
            "During handling of the above exception, another exception occurred:\n",
            "\n",
            "Traceback (most recent call last):\n",
            "  File \"/usr/local/lib/python3.7/dist-packages/sqlalchemy/pool/base.py\", line 247, in _close_connection\n",
            "    self._dialect.do_close(connection)\n",
            "  File \"/usr/local/lib/python3.7/dist-packages/sqlalchemy/engine/default.py\", line 675, in do_close\n",
            "    dbapi_connection.close()\n",
            "sqlite3.ProgrammingError: SQLite objects created in a thread can only be used in that same thread. The object was created in thread id 140236766631808 and this is thread id 140236106172160.\n"
          ]
        },
        {
          "output_type": "stream",
          "name": "stdout",
          "text": [
            ""
          ]
        }
      ]
    },
    {
      "cell_type": "code",
      "metadata": {
        "id": "E9ZGkVCs46id"
      },
      "source": [
        "expl_words = STC.explain()"
      ],
      "execution_count": 54,
      "outputs": []
    },
    {
      "cell_type": "code",
      "metadata": {
        "colab": {
          "base_uri": "https://localhost:8080/",
          "height": 394
        },
        "id": "jDeMC3BZ6Cpe",
        "outputId": "f89a930f-6685-417a-89da-ec6260e58a0a"
      },
      "source": [
        "#Top 10 per target\n",
        "expl_words['features'] = expl_words['features'].map(lambda x: x.replace(\"words: \", \"\"))\n",
        "hate = expl_words[expl_words.index == \"0\"]\n",
        "#hate['features'] = hate['features'].map(lambda x: x.replace(\"words: \", \"\"))\n",
        "hate.head(10)"
      ],
      "execution_count": 55,
      "outputs": [
        {
          "output_type": "execute_result",
          "data": {
            "text/html": [
              "<div>\n",
              "<style scoped>\n",
              "    .dataframe tbody tr th:only-of-type {\n",
              "        vertical-align: middle;\n",
              "    }\n",
              "\n",
              "    .dataframe tbody tr th {\n",
              "        vertical-align: top;\n",
              "    }\n",
              "\n",
              "    .dataframe thead th {\n",
              "        text-align: right;\n",
              "    }\n",
              "</style>\n",
              "<table border=\"1\" class=\"dataframe\">\n",
              "  <thead>\n",
              "    <tr style=\"text-align: right;\">\n",
              "      <th></th>\n",
              "      <th>features</th>\n",
              "      <th>score</th>\n",
              "    </tr>\n",
              "    <tr>\n",
              "      <th>target</th>\n",
              "      <th></th>\n",
              "      <th></th>\n",
              "    </tr>\n",
              "  </thead>\n",
              "  <tbody>\n",
              "    <tr>\n",
              "      <th>0</th>\n",
              "      <td>faggot</td>\n",
              "      <td>0.130740</td>\n",
              "    </tr>\n",
              "    <tr>\n",
              "      <th>0</th>\n",
              "      <td>nigger</td>\n",
              "      <td>0.095456</td>\n",
              "    </tr>\n",
              "    <tr>\n",
              "      <th>0</th>\n",
              "      <td>fag</td>\n",
              "      <td>0.088165</td>\n",
              "    </tr>\n",
              "    <tr>\n",
              "      <th>0</th>\n",
              "      <td>bitch</td>\n",
              "      <td>0.065937</td>\n",
              "    </tr>\n",
              "    <tr>\n",
              "      <th>0</th>\n",
              "      <td>fuck</td>\n",
              "      <td>0.048236</td>\n",
              "    </tr>\n",
              "    <tr>\n",
              "      <th>0</th>\n",
              "      <td>nigga</td>\n",
              "      <td>0.046090</td>\n",
              "    </tr>\n",
              "    <tr>\n",
              "      <th>0</th>\n",
              "      <td>wetback</td>\n",
              "      <td>0.043421</td>\n",
              "    </tr>\n",
              "    <tr>\n",
              "      <th>0</th>\n",
              "      <td>queer</td>\n",
              "      <td>0.042505</td>\n",
              "    </tr>\n",
              "    <tr>\n",
              "      <th>0</th>\n",
              "      <td>white</td>\n",
              "      <td>0.041728</td>\n",
              "    </tr>\n",
              "    <tr>\n",
              "      <th>0</th>\n",
              "      <td>dyke</td>\n",
              "      <td>0.038094</td>\n",
              "    </tr>\n",
              "  </tbody>\n",
              "</table>\n",
              "</div>"
            ],
            "text/plain": [
              "       features     score\n",
              "target                   \n",
              "0        faggot  0.130740\n",
              "0        nigger  0.095456\n",
              "0           fag  0.088165\n",
              "0         bitch  0.065937\n",
              "0          fuck  0.048236\n",
              "0         nigga  0.046090\n",
              "0       wetback  0.043421\n",
              "0         queer  0.042505\n",
              "0         white  0.041728\n",
              "0          dyke  0.038094"
            ]
          },
          "metadata": {},
          "execution_count": 55
        }
      ]
    },
    {
      "cell_type": "code",
      "metadata": {
        "colab": {
          "base_uri": "https://localhost:8080/",
          "height": 394
        },
        "id": "a09ExWAE6hQJ",
        "outputId": "2c4b592d-41b0-4d64-e4c2-cd8206459e03"
      },
      "source": [
        "offensive = expl_words[expl_words.index == \"1\"]\n",
        "offensive.head(10)"
      ],
      "execution_count": 56,
      "outputs": [
        {
          "output_type": "execute_result",
          "data": {
            "text/html": [
              "<div>\n",
              "<style scoped>\n",
              "    .dataframe tbody tr th:only-of-type {\n",
              "        vertical-align: middle;\n",
              "    }\n",
              "\n",
              "    .dataframe tbody tr th {\n",
              "        vertical-align: top;\n",
              "    }\n",
              "\n",
              "    .dataframe thead th {\n",
              "        text-align: right;\n",
              "    }\n",
              "</style>\n",
              "<table border=\"1\" class=\"dataframe\">\n",
              "  <thead>\n",
              "    <tr style=\"text-align: right;\">\n",
              "      <th></th>\n",
              "      <th>features</th>\n",
              "      <th>score</th>\n",
              "    </tr>\n",
              "    <tr>\n",
              "      <th>target</th>\n",
              "      <th></th>\n",
              "      <th></th>\n",
              "    </tr>\n",
              "  </thead>\n",
              "  <tbody>\n",
              "    <tr>\n",
              "      <th>1</th>\n",
              "      <td>bitch</td>\n",
              "      <td>0.126100</td>\n",
              "    </tr>\n",
              "    <tr>\n",
              "      <th>1</th>\n",
              "      <td>hoe</td>\n",
              "      <td>0.058992</td>\n",
              "    </tr>\n",
              "    <tr>\n",
              "      <th>1</th>\n",
              "      <td>pussi</td>\n",
              "      <td>0.057364</td>\n",
              "    </tr>\n",
              "    <tr>\n",
              "      <th>1</th>\n",
              "      <td>fuck</td>\n",
              "      <td>0.037308</td>\n",
              "    </tr>\n",
              "    <tr>\n",
              "      <th>1</th>\n",
              "      <td>nigga</td>\n",
              "      <td>0.034340</td>\n",
              "    </tr>\n",
              "    <tr>\n",
              "      <th>1</th>\n",
              "      <td>faggot</td>\n",
              "      <td>0.032890</td>\n",
              "    </tr>\n",
              "    <tr>\n",
              "      <th>1</th>\n",
              "      <td>shit</td>\n",
              "      <td>0.027019</td>\n",
              "    </tr>\n",
              "    <tr>\n",
              "      <th>1</th>\n",
              "      <td>fag</td>\n",
              "      <td>0.026499</td>\n",
              "    </tr>\n",
              "    <tr>\n",
              "      <th>1</th>\n",
              "      <td>ass</td>\n",
              "      <td>0.025305</td>\n",
              "    </tr>\n",
              "    <tr>\n",
              "      <th>1</th>\n",
              "      <td>nigger</td>\n",
              "      <td>0.024417</td>\n",
              "    </tr>\n",
              "  </tbody>\n",
              "</table>\n",
              "</div>"
            ],
            "text/plain": [
              "       features     score\n",
              "target                   \n",
              "1         bitch  0.126100\n",
              "1           hoe  0.058992\n",
              "1         pussi  0.057364\n",
              "1          fuck  0.037308\n",
              "1         nigga  0.034340\n",
              "1        faggot  0.032890\n",
              "1          shit  0.027019\n",
              "1           fag  0.026499\n",
              "1           ass  0.025305\n",
              "1        nigger  0.024417"
            ]
          },
          "metadata": {},
          "execution_count": 56
        }
      ]
    },
    {
      "cell_type": "code",
      "metadata": {
        "colab": {
          "base_uri": "https://localhost:8080/",
          "height": 394
        },
        "id": "lRiZ0cyM9L_j",
        "outputId": "df81bd7c-477d-4532-efc5-f491c41d1049"
      },
      "source": [
        "neutral = expl_words[expl_words.index == \"2\"]\n",
        "neutral.head(10)"
      ],
      "execution_count": 57,
      "outputs": [
        {
          "output_type": "execute_result",
          "data": {
            "text/html": [
              "<div>\n",
              "<style scoped>\n",
              "    .dataframe tbody tr th:only-of-type {\n",
              "        vertical-align: middle;\n",
              "    }\n",
              "\n",
              "    .dataframe tbody tr th {\n",
              "        vertical-align: top;\n",
              "    }\n",
              "\n",
              "    .dataframe thead th {\n",
              "        text-align: right;\n",
              "    }\n",
              "</style>\n",
              "<table border=\"1\" class=\"dataframe\">\n",
              "  <thead>\n",
              "    <tr style=\"text-align: right;\">\n",
              "      <th></th>\n",
              "      <th>features</th>\n",
              "      <th>score</th>\n",
              "    </tr>\n",
              "    <tr>\n",
              "      <th>target</th>\n",
              "      <th></th>\n",
              "      <th></th>\n",
              "    </tr>\n",
              "  </thead>\n",
              "  <tbody>\n",
              "    <tr>\n",
              "      <th>2</th>\n",
              "      <td>bird</td>\n",
              "      <td>0.081795</td>\n",
              "    </tr>\n",
              "    <tr>\n",
              "      <th>2</th>\n",
              "      <td>yanke</td>\n",
              "      <td>0.073113</td>\n",
              "    </tr>\n",
              "    <tr>\n",
              "      <th>2</th>\n",
              "      <td>charli</td>\n",
              "      <td>0.072317</td>\n",
              "    </tr>\n",
              "    <tr>\n",
              "      <th>2</th>\n",
              "      <td>oreo</td>\n",
              "      <td>0.052884</td>\n",
              "    </tr>\n",
              "    <tr>\n",
              "      <th>2</th>\n",
              "      <td>yellow</td>\n",
              "      <td>0.051755</td>\n",
              "    </tr>\n",
              "    <tr>\n",
              "      <th>2</th>\n",
              "      <td>browni</td>\n",
              "      <td>0.050377</td>\n",
              "    </tr>\n",
              "    <tr>\n",
              "      <th>2</th>\n",
              "      <td>trash</td>\n",
              "      <td>0.038479</td>\n",
              "    </tr>\n",
              "    <tr>\n",
              "      <th>2</th>\n",
              "      <td>mock</td>\n",
              "      <td>0.033176</td>\n",
              "    </tr>\n",
              "    <tr>\n",
              "      <th>2</th>\n",
              "      <td>sole</td>\n",
              "      <td>0.031738</td>\n",
              "    </tr>\n",
              "    <tr>\n",
              "      <th>2</th>\n",
              "      <td>jihadi</td>\n",
              "      <td>0.029144</td>\n",
              "    </tr>\n",
              "  </tbody>\n",
              "</table>\n",
              "</div>"
            ],
            "text/plain": [
              "       features     score\n",
              "target                   \n",
              "2          bird  0.081795\n",
              "2         yanke  0.073113\n",
              "2        charli  0.072317\n",
              "2          oreo  0.052884\n",
              "2        yellow  0.051755\n",
              "2        browni  0.050377\n",
              "2         trash  0.038479\n",
              "2          mock  0.033176\n",
              "2          sole  0.031738\n",
              "2        jihadi  0.029144"
            ]
          },
          "metadata": {},
          "execution_count": 57
        }
      ]
    },
    {
      "cell_type": "code",
      "metadata": {
        "id": "JNQ8NY_-DNsL"
      },
      "source": [
        "from wordcloud import WordCloud, STOPWORDS, ImageColorGenerator\n",
        "from PIL import Image"
      ],
      "execution_count": 58,
      "outputs": []
    },
    {
      "cell_type": "code",
      "metadata": {
        "colab": {
          "base_uri": "https://localhost:8080/",
          "height": 198
        },
        "id": "3wGAA_XiCPB9",
        "outputId": "db55e12a-1725-4e6a-8858-98ac3e86c8f5"
      },
      "source": [
        "#Word Cloud\n",
        "text_dict= dict(hate.values)\n",
        "\n",
        "# create the WordCloud object\n",
        "wordcloud = WordCloud(background_color='white', colormap= \"Dark2\")\n",
        "\n",
        "# generate the word cloud\n",
        "wordcloud.generate_from_frequencies(text_dict)\n",
        "\n",
        "#plot\n",
        "plt.imshow(wordcloud, interpolation='bilinear')\n",
        "plt.axis('off')\n",
        "plt.show()"
      ],
      "execution_count": 59,
      "outputs": [
        {
          "output_type": "display_data",
          "data": {
            "image/png": "[encoded data removed]",
            "text/plain": [
              "<Figure size 432x288 with 1 Axes>"
            ]
          },
          "metadata": {
            "needs_background": "light"
          }
        }
      ]
    },
    {
      "cell_type": "code",
      "metadata": {
        "colab": {
          "base_uri": "https://localhost:8080/",
          "height": 198
        },
        "id": "aU96VH4zDfHh",
        "outputId": "f1fc09f5-cbe3-4610-f27e-42bb5e577ea8"
      },
      "source": [
        "text_dict= dict(offensive.values)\n",
        "\n",
        "# create the WordCloud object\n",
        "wordcloud = WordCloud(background_color='white', colormap= \"inferno\")\n",
        "\n",
        "# generate the word cloud\n",
        "wordcloud.generate_from_frequencies(text_dict)\n",
        "\n",
        "#plot\n",
        "plt.imshow(wordcloud, interpolation='bilinear')\n",
        "plt.axis('off')\n",
        "plt.show()"
      ],
      "execution_count": 60,
      "outputs": [
        {
          "output_type": "display_data",
          "data": {
            "image/png": "[encoded data removed]",
            "text/plain": [
              "<Figure size 432x288 with 1 Axes>"
            ]
          },
          "metadata": {
            "needs_background": "light"
          }
        }
      ]
    },
    {
      "cell_type": "code",
      "metadata": {
        "colab": {
          "base_uri": "https://localhost:8080/",
          "height": 198
        },
        "id": "hqiHUaiVCPoM",
        "outputId": "e3823a4a-7fea-466c-fc49-642b7ab5cf83"
      },
      "source": [
        "text_dict= dict(neutral.values)\n",
        "\n",
        "# create the WordCloud object\n",
        "wordcloud = WordCloud(background_color='white')\n",
        "\n",
        "# generate the word cloud\n",
        "wordcloud.generate_from_frequencies(text_dict)\n",
        "\n",
        "#plot\n",
        "plt.imshow(wordcloud, interpolation='bilinear')\n",
        "plt.axis('off')\n",
        "plt.show()"
      ],
      "execution_count": 61,
      "outputs": [
        {
          "output_type": "display_data",
          "data": {
            "image/png": "[encoded data removed]",
            "text/plain": [
              "<Figure size 432x288 with 1 Axes>"
            ]
          },
          "metadata": {
            "needs_background": "light"
          }
        }
      ]
    },
    {
      "cell_type": "code",
      "metadata": {
        "colab": {
          "base_uri": "https://localhost:8080/"
        },
        "id": "JmA3k_PZ6Fam",
        "outputId": "34d8075e-27fd-4365-d80f-013f62885027"
      },
      "source": [
        "labels, _, _ = STC.predict(json_test, explain=False)\n",
        "labels = labels.fillna(0)\n",
        "predictions['Sparse Tensor Classifier'] = labels.target.values.astype(int)"
      ],
      "execution_count": 49,
      "outputs": [
        {
          "output_type": "stream",
          "name": "stdout",
          "text": [
            ""
          ]
        }
      ]
    },
    {
      "cell_type": "code",
      "metadata": {
        "id": "_ZC8wOjo-PrS"
      },
      "source": [
        "import sklearn.metrics as mtr"
      ],
      "execution_count": 50,
      "outputs": []
    },
    {
      "cell_type": "code",
      "metadata": {
        "id": "km7to-vNyHyr"
      },
      "source": [
        "E = []\n",
        "for estimator, y_pred in predictions.items():\n",
        "    report = mtr.classification_report(y_test, y_pred, output_dict=True, zero_division=0)\n",
        "    E.append({\n",
        "        'Model': estimator, 'Accuracy': report['accuracy'],\n",
        "        'Avg Precision (macro)': report['macro avg']['precision'],\n",
        "        'Avg Recall (macro)': report['macro avg']['recall'],\n",
        "        'Avg F1-score (macro)': report['macro avg']['f1-score'],\n",
        "        'Avg Precision (weighted)': report['weighted avg']['precision'],\n",
        "        'Avg Recall (weighted)': report['weighted avg']['recall'],\n",
        "        'Avg F1-score (weighted)': report['weighted avg']['f1-score']\n",
        "    })\n",
        "E = pd.DataFrame(E).set_index('Model', inplace=False)"
      ],
      "execution_count": 51,
      "outputs": []
    },
    {
      "cell_type": "code",
      "metadata": {
        "colab": {
          "base_uri": "https://localhost:8080/",
          "height": 206
        },
        "id": "it28spoc57MJ",
        "outputId": "20a6bf7e-e2bb-41a1-878d-b096ed65b217"
      },
      "source": [
        "E #recall = TP / (TP + FN) ; precision = TP / (TP + FP) ; Cerce definizione avg recall weighted vs macro"
      ],
      "execution_count": 52,
      "outputs": [
        {
          "output_type": "execute_result",
          "data": {
            "text/html": [
              "<div>\n",
              "<style scoped>\n",
              "    .dataframe tbody tr th:only-of-type {\n",
              "        vertical-align: middle;\n",
              "    }\n",
              "\n",
              "    .dataframe tbody tr th {\n",
              "        vertical-align: top;\n",
              "    }\n",
              "\n",
              "    .dataframe thead th {\n",
              "        text-align: right;\n",
              "    }\n",
              "</style>\n",
              "<table border=\"1\" class=\"dataframe\">\n",
              "  <thead>\n",
              "    <tr style=\"text-align: right;\">\n",
              "      <th></th>\n",
              "      <th>Accuracy</th>\n",
              "      <th>Avg Precision (macro)</th>\n",
              "      <th>Avg Recall (macro)</th>\n",
              "      <th>Avg F1-score (macro)</th>\n",
              "      <th>Avg Precision (weighted)</th>\n",
              "      <th>Avg Recall (weighted)</th>\n",
              "      <th>Avg F1-score (weighted)</th>\n",
              "    </tr>\n",
              "    <tr>\n",
              "      <th>Model</th>\n",
              "      <th></th>\n",
              "      <th></th>\n",
              "      <th></th>\n",
              "      <th></th>\n",
              "      <th></th>\n",
              "      <th></th>\n",
              "      <th></th>\n",
              "    </tr>\n",
              "  </thead>\n",
              "  <tbody>\n",
              "    <tr>\n",
              "      <th>Multinomial NV</th>\n",
              "      <td>0.785345</td>\n",
              "      <td>0.573864</td>\n",
              "      <td>0.357391</td>\n",
              "      <td>0.337882</td>\n",
              "      <td>0.763715</td>\n",
              "      <td>0.785345</td>\n",
              "      <td>0.702226</td>\n",
              "    </tr>\n",
              "    <tr>\n",
              "      <th>Random Forest</th>\n",
              "      <td>0.857005</td>\n",
              "      <td>0.735367</td>\n",
              "      <td>0.553267</td>\n",
              "      <td>0.594405</td>\n",
              "      <td>0.839717</td>\n",
              "      <td>0.857005</td>\n",
              "      <td>0.834173</td>\n",
              "    </tr>\n",
              "    <tr>\n",
              "      <th>XGBoost</th>\n",
              "      <td>0.883473</td>\n",
              "      <td>0.710304</td>\n",
              "      <td>0.739020</td>\n",
              "      <td>0.716319</td>\n",
              "      <td>0.890161</td>\n",
              "      <td>0.883473</td>\n",
              "      <td>0.882882</td>\n",
              "    </tr>\n",
              "    <tr>\n",
              "      <th>Sparse Tensor Classifier</th>\n",
              "      <td>0.853938</td>\n",
              "      <td>0.693324</td>\n",
              "      <td>0.790277</td>\n",
              "      <td>0.720951</td>\n",
              "      <td>0.897947</td>\n",
              "      <td>0.853938</td>\n",
              "      <td>0.870525</td>\n",
              "    </tr>\n",
              "  </tbody>\n",
              "</table>\n",
              "</div>"
            ],
            "text/plain": [
              "                          Accuracy  ...  Avg F1-score (weighted)\n",
              "Model                               ...                         \n",
              "Multinomial NV            0.785345  ...                 0.702226\n",
              "Random Forest             0.857005  ...                 0.834173\n",
              "XGBoost                   0.883473  ...                 0.882882\n",
              "Sparse Tensor Classifier  0.853938  ...                 0.870525\n",
              "\n",
              "[4 rows x 7 columns]"
            ]
          },
          "metadata": {},
          "execution_count": 52
        }
      ]
    },
    {
      "cell_type": "code",
      "metadata": {
        "colab": {
          "base_uri": "https://localhost:8080/"
        },
        "id": "tat8Slre4Tr1",
        "outputId": "ccd7519f-8549-43f6-8d9c-fffe1be558ef"
      },
      "source": [
        "report"
      ],
      "execution_count": 53,
      "outputs": [
        {
          "output_type": "execute_result",
          "data": {
            "text/plain": [
              "{'0': {'f1-score': 0.40819964349376114,\n",
              "  'precision': 0.3009198423127464,\n",
              "  'recall': 0.6343490304709142,\n",
              "  'support': 361},\n",
              " '1': {'f1-score': 0.9112231477422182,\n",
              "  'precision': 0.9600461893764434,\n",
              "  'recall': 0.8671255736337088,\n",
              "  'support': 4794},\n",
              " '2': {'f1-score': 0.8434296365330849,\n",
              "  'precision': 0.8190045248868778,\n",
              "  'recall': 0.8693563880883766,\n",
              "  'support': 1041},\n",
              " 'accuracy': 0.8539380245319561,\n",
              " 'macro avg': {'f1-score': 0.7209508092563547,\n",
              "  'precision': 0.6933235188586891,\n",
              "  'recall': 0.7902769973976665,\n",
              "  'support': 6196},\n",
              " 'weighted avg': {'f1-score': 0.8705251925772084,\n",
              "  'precision': 0.8979466115805054,\n",
              "  'recall': 0.8539380245319561,\n",
              "  'support': 6196}}"
            ]
          },
          "metadata": {},
          "execution_count": 53
        }
      ]
    },
    {
      "cell_type": "markdown",
      "metadata": {
        "id": "6WIhG1hNlLDf"
      },
      "source": [
        "[Link dell'articolo](https://towardsdatascience.com/an-automatic-hyperparameter-optimization-on-a-twitter-sentiment-analysis-problem-6d5dc732f500)"
      ]
    },
    {
      "cell_type": "markdown",
      "metadata": {
        "id": "KXunKASXbTZ3"
      },
      "source": [
        "## Analysis and tuning"
      ]
    },
    {
      "cell_type": "code",
      "metadata": {
        "id": "hyiG0ANekCwL"
      },
      "source": [
        "!pip install optuna"
      ],
      "execution_count": null,
      "outputs": []
    },
    {
      "cell_type": "code",
      "metadata": {
        "id": "iqERD1icb1XH"
      },
      "source": [
        "import optuna\n",
        "from optuna.trial import TrialState"
      ],
      "execution_count": null,
      "outputs": []
    },
    {
      "cell_type": "markdown",
      "metadata": {
        "id": "Woqj6LVQWFVS"
      },
      "source": [
        "### Random Forest"
      ]
    },
    {
      "cell_type": "code",
      "metadata": {
        "id": "WnavuEbmb4JN"
      },
      "source": [
        "def objective(trial):\n",
        "  criterion = trial.suggest_categorical('criterion', ['gini', 'entropy'])\n",
        "  bootstrap = trial.suggest_categorical('bootstrap',['True','False'])\n",
        "  max_depth = trial.suggest_int('max_depth', 20, 35)\n",
        "  n_estimators =  trial.suggest_int('n_estimators', 50, 300, step=50)\n",
        "    \n",
        "  clf = RandomForestClassifier(bootstrap = bootstrap, criterion = criterion,\n",
        "                                 max_depth = max_depth,\n",
        "                                 n_estimators = n_estimators,n_jobs=-1, class_weight='balanced')\n",
        "  score = cross_val_score(clf, X_train, y_train, cv=5, scoring=\"f1_weighted\").mean()\n",
        "  return score"
      ],
      "execution_count": null,
      "outputs": []
    },
    {
      "cell_type": "code",
      "metadata": {
        "colab": {
          "base_uri": "https://localhost:8080/"
        },
        "id": "cJo19_F2cLew",
        "outputId": "8e2a2575-0c9c-439d-9062-9123423be85e"
      },
      "source": [
        "study = optuna.create_study(direction='maximize')\n",
        "study.optimize(objective, n_trials=30)"
      ],
      "execution_count": null,
      "outputs": [
        {
          "output_type": "stream",
          "name": "stderr",
          "text": [
            "\u001b[32m[I 2021-11-15 09:08:03,733]\u001b[0m A new study created in memory with name: no-name-ba37ee39-8b16-4b90-9a17-3ac3cea60794\u001b[0m\n",
            "\u001b[32m[I 2021-11-15 09:11:09,245]\u001b[0m Trial 0 finished with value: 0.842602919264303 and parameters: {'criterion': 'gini', 'bootstrap': 'False', 'max_depth': 29, 'n_estimators': 50}. Best is trial 0 with value: 0.842602919264303.\u001b[0m\n",
            "\u001b[32m[I 2021-11-15 09:13:46,066]\u001b[0m Trial 1 finished with value: 0.837609777330866 and parameters: {'criterion': 'gini', 'bootstrap': 'False', 'max_depth': 24, 'n_estimators': 50}. Best is trial 0 with value: 0.842602919264303.\u001b[0m\n",
            "\u001b[32m[I 2021-11-15 09:25:17,959]\u001b[0m Trial 2 finished with value: 0.8475257202670534 and parameters: {'criterion': 'gini', 'bootstrap': 'True', 'max_depth': 29, 'n_estimators': 200}. Best is trial 2 with value: 0.8475257202670534.\u001b[0m\n",
            "\u001b[32m[I 2021-11-15 09:28:06,139]\u001b[0m Trial 3 finished with value: 0.8379166559522764 and parameters: {'criterion': 'gini', 'bootstrap': 'True', 'max_depth': 26, 'n_estimators': 50}. Best is trial 2 with value: 0.8475257202670534.\u001b[0m\n",
            "\u001b[32m[I 2021-11-15 09:38:25,421]\u001b[0m Trial 4 finished with value: 0.846649191989649 and parameters: {'criterion': 'gini', 'bootstrap': 'False', 'max_depth': 25, 'n_estimators': 200}. Best is trial 2 with value: 0.8475257202670534.\u001b[0m\n",
            "\u001b[32m[I 2021-11-15 09:52:27,520]\u001b[0m Trial 5 finished with value: 0.8509280374448929 and parameters: {'criterion': 'gini', 'bootstrap': 'False', 'max_depth': 28, 'n_estimators': 250}. Best is trial 5 with value: 0.8509280374448929.\u001b[0m\n",
            "\u001b[32m[I 2021-11-15 09:58:53,121]\u001b[0m Trial 6 finished with value: 0.8446974519974596 and parameters: {'criterion': 'gini', 'bootstrap': 'True', 'max_depth': 20, 'n_estimators': 150}. Best is trial 5 with value: 0.8509280374448929.\u001b[0m\n",
            "\u001b[32m[I 2021-11-15 10:04:23,375]\u001b[0m Trial 7 finished with value: 0.8412597182643001 and parameters: {'criterion': 'gini', 'bootstrap': 'True', 'max_depth': 27, 'n_estimators': 100}. Best is trial 5 with value: 0.8509280374448929.\u001b[0m\n",
            "\u001b[32m[I 2021-11-15 10:12:23,774]\u001b[0m Trial 8 finished with value: 0.8456297667872764 and parameters: {'criterion': 'gini', 'bootstrap': 'False', 'max_depth': 26, 'n_estimators': 150}. Best is trial 5 with value: 0.8509280374448929.\u001b[0m\n",
            "\u001b[32m[I 2021-11-15 10:17:02,407]\u001b[0m Trial 9 finished with value: 0.8461745334479008 and parameters: {'criterion': 'gini', 'bootstrap': 'False', 'max_depth': 21, 'n_estimators': 100}. Best is trial 5 with value: 0.8509280374448929.\u001b[0m\n",
            "\u001b[32m[I 2021-11-15 10:36:51,091]\u001b[0m Trial 10 finished with value: 0.8484943571277892 and parameters: {'criterion': 'entropy', 'bootstrap': 'False', 'max_depth': 35, 'n_estimators': 300}. Best is trial 5 with value: 0.8509280374448929.\u001b[0m\n",
            "\u001b[32m[I 2021-11-15 10:56:56,935]\u001b[0m Trial 11 finished with value: 0.8501636129825207 and parameters: {'criterion': 'entropy', 'bootstrap': 'False', 'max_depth': 35, 'n_estimators': 300}. Best is trial 5 with value: 0.8509280374448929.\u001b[0m\n",
            "\u001b[32m[I 2021-11-15 11:16:47,301]\u001b[0m Trial 12 finished with value: 0.8502301312041665 and parameters: {'criterion': 'entropy', 'bootstrap': 'False', 'max_depth': 35, 'n_estimators': 300}. Best is trial 5 with value: 0.8509280374448929.\u001b[0m\n",
            "\u001b[32m[I 2021-11-15 11:32:19,635]\u001b[0m Trial 13 finished with value: 0.8522378676217945 and parameters: {'criterion': 'entropy', 'bootstrap': 'False', 'max_depth': 32, 'n_estimators': 250}. Best is trial 13 with value: 0.8522378676217945.\u001b[0m\n",
            "\u001b[32m[I 2021-11-15 11:48:22,368]\u001b[0m Trial 14 finished with value: 0.8487214693147747 and parameters: {'criterion': 'entropy', 'bootstrap': 'False', 'max_depth': 32, 'n_estimators': 250}. Best is trial 13 with value: 0.8522378676217945.\u001b[0m\n",
            "\u001b[32m[I 2021-11-15 12:03:50,282]\u001b[0m Trial 15 finished with value: 0.8523744710940957 and parameters: {'criterion': 'entropy', 'bootstrap': 'False', 'max_depth': 30, 'n_estimators': 250}. Best is trial 15 with value: 0.8523744710940957.\u001b[0m\n",
            "\u001b[32m[I 2021-11-15 12:20:01,436]\u001b[0m Trial 16 finished with value: 0.8521092275793143 and parameters: {'criterion': 'entropy', 'bootstrap': 'False', 'max_depth': 31, 'n_estimators': 250}. Best is trial 15 with value: 0.8523744710940957.\u001b[0m\n",
            "\u001b[32m[I 2021-11-15 12:36:28,605]\u001b[0m Trial 17 finished with value: 0.8517372470247139 and parameters: {'criterion': 'entropy', 'bootstrap': 'False', 'max_depth': 32, 'n_estimators': 250}. Best is trial 15 with value: 0.8523744710940957.\u001b[0m\n",
            "\u001b[32m[I 2021-11-15 12:49:40,754]\u001b[0m Trial 18 finished with value: 0.8490763283049969 and parameters: {'criterion': 'entropy', 'bootstrap': 'True', 'max_depth': 31, 'n_estimators': 200}. Best is trial 15 with value: 0.8523744710940957.\u001b[0m\n",
            "\u001b[32m[I 2021-11-15 13:06:53,847]\u001b[0m Trial 19 finished with value: 0.8491238201565237 and parameters: {'criterion': 'entropy', 'bootstrap': 'False', 'max_depth': 33, 'n_estimators': 250}. Best is trial 15 with value: 0.8523744710940957.\u001b[0m\n",
            "\u001b[32m[I 2021-11-15 13:22:23,286]\u001b[0m Trial 20 finished with value: 0.8524489386257794 and parameters: {'criterion': 'entropy', 'bootstrap': 'False', 'max_depth': 23, 'n_estimators': 300}. Best is trial 20 with value: 0.8524489386257794.\u001b[0m\n",
            "\u001b[32m[I 2021-11-15 13:37:46,363]\u001b[0m Trial 21 finished with value: 0.853934972345332 and parameters: {'criterion': 'entropy', 'bootstrap': 'False', 'max_depth': 24, 'n_estimators': 300}. Best is trial 21 with value: 0.853934972345332.\u001b[0m\n",
            "\u001b[32m[I 2021-11-15 13:52:42,965]\u001b[0m Trial 22 finished with value: 0.8516886319652702 and parameters: {'criterion': 'entropy', 'bootstrap': 'False', 'max_depth': 23, 'n_estimators': 300}. Best is trial 21 with value: 0.853934972345332.\u001b[0m\n",
            "\u001b[32m[I 2021-11-15 14:07:22,965]\u001b[0m Trial 23 finished with value: 0.8494814145805035 and parameters: {'criterion': 'entropy', 'bootstrap': 'False', 'max_depth': 22, 'n_estimators': 300}. Best is trial 21 with value: 0.853934972345332.\u001b[0m\n",
            "\u001b[32m[I 2021-11-15 14:22:08,221]\u001b[0m Trial 24 finished with value: 0.852851964257227 and parameters: {'criterion': 'entropy', 'bootstrap': 'False', 'max_depth': 23, 'n_estimators': 300}. Best is trial 21 with value: 0.853934972345332.\u001b[0m\n",
            "\u001b[32m[I 2021-11-15 14:37:01,879]\u001b[0m Trial 25 finished with value: 0.8517487441231457 and parameters: {'criterion': 'entropy', 'bootstrap': 'False', 'max_depth': 23, 'n_estimators': 300}. Best is trial 21 with value: 0.853934972345332.\u001b[0m\n",
            "\u001b[32m[I 2021-11-15 14:53:05,236]\u001b[0m Trial 26 finished with value: 0.8514460314409023 and parameters: {'criterion': 'entropy', 'bootstrap': 'True', 'max_depth': 24, 'n_estimators': 300}. Best is trial 21 with value: 0.853934972345332.\u001b[0m\n",
            "\u001b[32m[I 2021-11-15 15:06:46,941]\u001b[0m Trial 27 finished with value: 0.8520798218559446 and parameters: {'criterion': 'entropy', 'bootstrap': 'False', 'max_depth': 20, 'n_estimators': 300}. Best is trial 21 with value: 0.853934972345332.\u001b[0m\n",
            "\u001b[32m[I 2021-11-15 15:17:05,051]\u001b[0m Trial 28 finished with value: 0.8487184953124718 and parameters: {'criterion': 'entropy', 'bootstrap': 'False', 'max_depth': 23, 'n_estimators': 200}. Best is trial 21 with value: 0.853934972345332.\u001b[0m\n",
            "\u001b[32m[I 2021-11-15 15:31:47,454]\u001b[0m Trial 29 finished with value: 0.8543300169350418 and parameters: {'criterion': 'entropy', 'bootstrap': 'False', 'max_depth': 22, 'n_estimators': 300}. Best is trial 29 with value: 0.8543300169350418.\u001b[0m\n"
          ]
        }
      ]
    },
    {
      "cell_type": "code",
      "metadata": {
        "id": "2AOdSLqAcP8J",
        "colab": {
          "base_uri": "https://localhost:8080/"
        },
        "outputId": "6cabd8be-93a6-4f95-c8fc-23590ded0535"
      },
      "source": [
        "trial = study.best_trial\n",
        "print('F1 Score: {}'.format(trial.value))\n",
        "print(\"Best hyperparameters: {}\".format(trial.params))"
      ],
      "execution_count": null,
      "outputs": [
        {
          "output_type": "stream",
          "name": "stdout",
          "text": [
            "F1 Score: 0.8543300169350418\n",
            "Best hyperparameters: {'criterion': 'entropy', 'bootstrap': 'False', 'max_depth': 22, 'n_estimators': 300}\n"
          ]
        }
      ]
    },
    {
      "cell_type": "code",
      "metadata": {
        "colab": {
          "base_uri": "https://localhost:8080/",
          "height": 483
        },
        "id": "HABRVzjv3e-n",
        "outputId": "82e84f41-9bea-4f56-df75-6e4cb4d43b2e"
      },
      "source": [
        "# optimised_rf = RandomForestClassifier(bootstrap = study.best_params['bootstrap'], criterion = study.best_params['criterion'],\n",
        "#                                     max_depth = study.best_params['max_depth'], n_estimators = study.best_params['n_estimators'], n_jobs=-1, class_weight='balanced')\n",
        "\n",
        "# optimised_rf = RandomForestClassifier(bootstrap = False, criterion = 'entropy',\n",
        "#                                      max_depth = 25,n_estimators = 250,n_jobs=-1,class_weight='balanced')\n",
        "\n",
        "optimised_rf = RandomForestClassifier(bootstrap = False, criterion = 'entropy',\n",
        "                                     max_depth = 22,n_estimators = 300,n_jobs=-1,class_weight='balanced')\n",
        "\n",
        "\n",
        "optimised_rf.fit(X_train ,y_train)\n",
        "\n",
        "y_pred = optimised_rf.predict(X_test)\n",
        "\n",
        "#print(confusion_matrix(y_test,y_pred))\n",
        "print(classification_report(y_test,y_pred))\n",
        "print('The Accuracy Score is:',accuracy_score(y_test, y_pred))\n",
        "print('The Weighted F1 Score is:',f1_score(y_test, y_pred, average='weighted'))\n",
        "\n",
        "# Confusion Matrix\n",
        "plot_confusion_matrix(optimised_rf, X_test, y_test, normalize= 'true', cmap= 'magma')  \n",
        "plt.show()"
      ],
      "execution_count": null,
      "outputs": [
        {
          "output_type": "stream",
          "name": "stdout",
          "text": [
            "              precision    recall  f1-score   support\n",
            "\n",
            "           0       0.37      0.46      0.41       361\n",
            "           1       0.96      0.87      0.91      4794\n",
            "           2       0.69      0.93      0.79      1041\n",
            "\n",
            "    accuracy                           0.86      6196\n",
            "   macro avg       0.67      0.75      0.70      6196\n",
            "weighted avg       0.88      0.86      0.86      6196\n",
            "\n",
            "The Accuracy Score is: 0.856358941252421\n",
            "The Weighted F1 Score is: 0.8633442030425632\n"
          ]
        },
        {
          "output_type": "display_data",
          "data": {
            "image/png": "[encoded data removed]",
            "text/plain": [
              "<Figure size 432x288 with 2 Axes>"
            ]
          },
          "metadata": {
            "needs_background": "light"
          }
        }
      ]
    },
    {
      "cell_type": "code",
      "metadata": {
        "id": "sazfxuCLLU_Y"
      },
      "source": [
        ""
      ],
      "execution_count": null,
      "outputs": []
    },
    {
      "cell_type": "markdown",
      "metadata": {
        "id": "4L4PhoeJWMaP"
      },
      "source": [
        "### Multinomial Naive Bayes"
      ]
    },
    {
      "cell_type": "code",
      "metadata": {
        "id": "AEBv3z2hD5T8"
      },
      "source": [
        "def objective(trial):\n",
        "  alpha = trial.suggest_float('alpha', 0.01, 10, log=True)\n",
        "\n",
        "  clf = MultinomialNB(alpha=alpha)\n",
        "\n",
        "  score = cross_val_score(clf, X_train, y_train, cv=5, scoring=\"f1_weighted\").mean()\n",
        "  return score\n",
        "\n",
        "study = optuna.create_study(direction='maximize')\n",
        "study.optimize(objective, n_trials=100)"
      ],
      "execution_count": null,
      "outputs": []
    },
    {
      "cell_type": "code",
      "metadata": {
        "colab": {
          "base_uri": "https://localhost:8080/"
        },
        "id": "Xo8tsLFAD5Ql",
        "outputId": "b985c92d-d1ba-41f8-d355-251197ec276d"
      },
      "source": [
        "trial = study.best_trial\n",
        "print('F1 - Score: {}'.format(trial.value))\n",
        "print(\"Best hyperparameters: {}\".format(trial.params)) #(lemmatization)"
      ],
      "execution_count": null,
      "outputs": [
        {
          "output_type": "stream",
          "name": "stdout",
          "text": [
            "F1 - Score: 0.7474992758770906\n",
            "Best hyperparameters: {'alpha': 0.010514115238530885}\n"
          ]
        }
      ]
    },
    {
      "cell_type": "code",
      "metadata": {
        "colab": {
          "base_uri": "https://localhost:8080/",
          "height": 483
        },
        "id": "SPRrm5BfH8Vl",
        "outputId": "9357d3b7-3b4f-44d0-e9c9-f7d970efd9a2"
      },
      "source": [
        "#optimised_mnb = MultinomialNB(alpha=study.best_params['alpha'])  #0.010160965365387773 (porter)\n",
        "\n",
        "optimised_mnb = MultinomialNB(alpha = 0.010514115238530885)\n",
        "\n",
        "optimised_mnb.fit(X_train, y_train)\n",
        "\n",
        "y_pred = optimised_mnb.predict(X_test)\n",
        "\n",
        "#print(confusion_matrix(y_test,y_pred))\n",
        "print(classification_report(y_test,y_pred))\n",
        "print('The Accuracy Score is:',accuracy_score(y_test, y_pred))  #0.8043899289864429 (porter)\n",
        "print('The Weighted F1 Score is:',f1_score(y_test, y_pred, average='weighted'))  #0.8041959620864586 (porter)\n",
        "\n",
        "# Confusion matrix\n",
        "plot_confusion_matrix(optimised_mnb, X_test, y_test, normalize= 'true', cmap= 'magma')  \n",
        "plt.show()"
      ],
      "execution_count": null,
      "outputs": [
        {
          "output_type": "stream",
          "name": "stdout",
          "text": [
            "              precision    recall  f1-score   support\n",
            "\n",
            "           0       0.31      0.16      0.21       361\n",
            "           1       0.86      0.92      0.89      4794\n",
            "           2       0.66      0.56      0.60      1041\n",
            "\n",
            "    accuracy                           0.82      6196\n",
            "   macro avg       0.61      0.55      0.57      6196\n",
            "weighted avg       0.80      0.82      0.80      6196\n",
            "\n",
            "The Accuracy Score is: 0.8173014848289218\n",
            "The Weighted F1 Score is: 0.8044047517710032\n"
          ]
        },
        {
          "output_type": "display_data",
          "data": {
            "image/png": "[encoded data removed]",
            "text/plain": [
              "<Figure size 432x288 with 2 Axes>"
            ]
          },
          "metadata": {
            "needs_background": "light"
          }
        }
      ]
    },
    {
      "cell_type": "code",
      "metadata": {
        "id": "aPm7hTtDQGl7"
      },
      "source": [
        "plot_confusion_matrix(optimised_mnb, X_test, y_test, normalize= 'true', cmap= 'magma')  \n",
        "plt.show()"
      ],
      "execution_count": null,
      "outputs": []
    },
    {
      "cell_type": "markdown",
      "metadata": {
        "id": "x-mLdwQnWTal"
      },
      "source": [
        "### XGBoost"
      ]
    },
    {
      "cell_type": "code",
      "metadata": {
        "id": "MNSNBtP214DG"
      },
      "source": [
        "from xgboost import XGBClassifier"
      ],
      "execution_count": null,
      "outputs": []
    },
    {
      "cell_type": "code",
      "metadata": {
        "id": "ejWkOzMAj-lO"
      },
      "source": [
        "# optuna's objective function\n",
        "def objective(trial):\n",
        "  learning_rate = trial.suggest_float(\"learning_rate\", 0.01, 0.5, log=True)\n",
        "  max_depth = trial.suggest_int(\"max_depth\", 2, 10,step=2, log=False)\n",
        "  n_estimators = trial.suggest_int(\"n_estimators\", 100, 300,step=100, log=False)\n",
        "\n",
        "  model = XGBClassifier(objective= 'multi:softmax',\n",
        "                        learning_rate = learning_rate,\n",
        "                        n_estimators = n_estimators,\n",
        "                        max_depth = max_depth,\n",
        "                        seed=42)\n",
        "\n",
        "  # Handle pruning based on the intermediate value.\n",
        "  if trial.should_prune():\n",
        "    raise optuna.exceptions.TrialPruned()\n",
        "\n",
        "  score = cross_val_score(model, X_train, y_train, cv=5, scoring=\"f1_weighted\").mean()\n",
        "  return score"
      ],
      "execution_count": null,
      "outputs": []
    },
    {
      "cell_type": "code",
      "metadata": {
        "colab": {
          "base_uri": "https://localhost:8080/"
        },
        "id": "NOS5gBTmTe60",
        "outputId": "6b62d0fe-7942-4e86-ad2b-31c1b9894bc1"
      },
      "source": [
        "# study to maximize the accuracy metric\n",
        "study = optuna.create_study(direction=\"maximize\")\n",
        "study.optimize(objective, n_trials=5)"
      ],
      "execution_count": null,
      "outputs": [
        {
          "metadata": {
            "tags": null
          },
          "name": "stderr",
          "output_type": "stream",
          "text": [
            "\u001b[32m[I 2021-11-15 21:12:14,364]\u001b[0m A new study created in memory with name: no-name-94f40e70-fcdb-4add-8801-dc39212ae8c5\u001b[0m\n",
            "\u001b[32m[I 2021-11-15 23:43:21,509]\u001b[0m Trial 0 finished with value: 0.8695566792024669 and parameters: {'learning_rate': 0.06645389629080399, 'max_depth': 2, 'n_estimators': 300}. Best is trial 0 with value: 0.8695566792024669.\u001b[0m\n",
            "\u001b[32m[I 2021-11-16 01:10:32,599]\u001b[0m Trial 1 finished with value: 0.874460268162238 and parameters: {'learning_rate': 0.2473847108709958, 'max_depth': 4, 'n_estimators': 100}. Best is trial 1 with value: 0.874460268162238.\u001b[0m\n"
          ]
        }
      ]
    },
    {
      "cell_type": "code",
      "metadata": {
        "id": "7vi3b90XT3zp"
      },
      "source": [
        "trial = study.best_trial\n",
        "print('F1 Score: {}'.format(trial.value))\n",
        "print(\"Best hyperparameters: {}\".format(trial.params))"
      ],
      "execution_count": null,
      "outputs": []
    },
    {
      "cell_type": "code",
      "metadata": {
        "id": "ZEy13T9d8he7",
        "colab": {
          "base_uri": "https://localhost:8080/",
          "height": 487
        },
        "outputId": "a898a49e-2472-4d05-936a-5df17ef11632"
      },
      "source": [
        "#lemmatization\n",
        "\n",
        "optimised_xgb = XGBClassifier(objective= 'multi:softmax',\n",
        "                        learning_rate = 0.2473847108709958,\n",
        "                        n_estimators = 100,\n",
        "                        max_depth = 4,\n",
        "                        seed=42)\n",
        "\n",
        "optimised_xgb.fit(X_train, y_train)\n",
        "\n",
        "y_pred = optimised_xgb.predict(X_test)\n",
        "\n",
        "#print(confusion_matrix(y_test,y_pred))\n",
        "print(classification_report(y_test,y_pred))\n",
        "print('The Accuracy Score is:',accuracy_score(y_test, y_pred))  #0.8863783085861846 (porter)\n",
        "print('The Weighted F1 Score is:',f1_score(y_test, y_pred, average='weighted'))  #0.8841798992863336 (porter)\n",
        "\n",
        "# Confusion Matrix\n",
        "plot_confusion_matrix(optimised_xgb, X_test, y_test, normalize= 'true', cmap= 'magma')  \n",
        "plt.show()"
      ],
      "execution_count": null,
      "outputs": [
        {
          "output_type": "stream",
          "name": "stdout",
          "text": [
            "              precision    recall  f1-score   support\n",
            "\n",
            "           0       0.46      0.35      0.40       361\n",
            "           1       0.96      0.92      0.94      4794\n",
            "           2       0.76      0.96      0.85      1041\n",
            "\n",
            "    accuracy                           0.89      6196\n",
            "   macro avg       0.72      0.74      0.73      6196\n",
            "weighted avg       0.89      0.89      0.89      6196\n",
            "\n",
            "The Accuracy Score is: 0.8918657198192382\n",
            "The Weighted F1 Score is: 0.8902955169018264\n"
          ]
        },
        {
          "output_type": "display_data",
          "data": {
            "image/png": "[encoded data removed]",
            "text/plain": [
              "<Figure size 432x288 with 2 Axes>"
            ]
          },
          "metadata": {
            "needs_background": "light"
          }
        }
      ]
    },
    {
      "cell_type": "code",
      "metadata": {
        "colab": {
          "base_uri": "https://localhost:8080/",
          "height": 487
        },
        "id": "wSmPvJm6aJDA",
        "outputId": "9dad8c47-14b4-4e62-8da3-d907c4329256"
      },
      "source": [
        "#porter\n",
        "\n",
        "optimised_xgb = XGBClassifier(objective= 'multi:softmax',\n",
        "                        learning_rate = 0.0365241029983789,\n",
        "                        n_estimators = 100,\n",
        "                        max_depth = 8,\n",
        "                        seed=42)\n",
        "\n",
        "optimised_xgb.fit(X_train, y_train)\n",
        "\n",
        "y_pred = optimised_xgb.predict(X_test)\n",
        "\n",
        "#print(confusion_matrix(y_test,y_pred))\n",
        "print(classification_report(y_test,y_pred))\n",
        "print('The Accuracy Score is:',accuracy_score(y_test, y_pred))  #0.8863783085861846 (porter)\n",
        "print('The Weighted F1 Score is:',f1_score(y_test, y_pred, average='weighted'))  #0.8841798992863336 (porter)\n",
        "\n",
        "# Confusion Matrix\n",
        "plot_confusion_matrix(optimised_xgb, X_test, y_test, normalize= 'true', cmap= 'magma')  \n",
        "plt.show()"
      ],
      "execution_count": null,
      "outputs": [
        {
          "output_type": "stream",
          "name": "stdout",
          "text": [
            "              precision    recall  f1-score   support\n",
            "\n",
            "           0       0.47      0.32      0.38       361\n",
            "           1       0.96      0.91      0.93      4794\n",
            "           2       0.73      0.97      0.83      1041\n",
            "\n",
            "    accuracy                           0.89      6196\n",
            "   macro avg       0.72      0.73      0.72      6196\n",
            "weighted avg       0.89      0.89      0.88      6196\n",
            "\n",
            "The Accuracy Score is: 0.8863783085861846\n",
            "The Weighted F1 Score is: 0.8841798992863336\n"
          ]
        },
        {
          "output_type": "display_data",
          "data": {
            "image/png": "[encoded data removed]",
            "text/plain": [
              "<Figure size 432x288 with 2 Axes>"
            ]
          },
          "metadata": {
            "needs_background": "light"
          }
        }
      ]
    }
  ]
}